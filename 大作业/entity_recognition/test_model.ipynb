{
 "metadata": {
  "language_info": {
   "codemirror_mode": {
    "name": "ipython",
    "version": 3
   },
   "file_extension": ".py",
   "mimetype": "text/x-python",
   "name": "python",
   "nbconvert_exporter": "python",
   "pygments_lexer": "ipython3",
   "version": "3.6.12-final"
  },
  "orig_nbformat": 2,
  "kernelspec": {
   "name": "python3",
   "display_name": "Python 3.6.12 64-bit ('opennre': conda)",
   "metadata": {
    "interpreter": {
     "hash": "b5fdc3e7fab1a59fc0e0e7a1721f98f86242be1f07131b0a11d285284e493daa"
    }
   }
  }
 },
 "nbformat": 4,
 "nbformat_minor": 2,
 "cells": [
  {
   "cell_type": "code",
   "execution_count": 27,
   "metadata": {
    "pycharm": {
     "name": "#%%\n"
    }
   },
   "outputs": [],
   "source": [
    "from os.path import join\n",
    "from data import build_corpus, build_corpus_origin\n",
    "from utils import load_model, extend_maps, prepocess_data_for_lstmcrf\n",
    "from models.util import sort_by_lengths, tensorized"
   ]
  },
  {
   "cell_type": "code",
   "execution_count": 28,
   "metadata": {
    "pycharm": {
     "name": "#%%\n"
    }
   },
   "outputs": [],
   "source": [
    "bilstm_model = load_model(\"ckpts/bilstm.pkl\")"
   ]
  },
  {
   "cell_type": "code",
   "execution_count": 29,
   "metadata": {
    "pycharm": {
     "name": "#%%\n"
    }
   },
   "outputs": [
    {
     "data": {
      "text/plain": "<models.bilstm_crf.BILSTM_Model at 0x209f93ab850>"
     },
     "execution_count": 29,
     "metadata": {},
     "output_type": "execute_result"
    }
   ],
   "source": [
    "bilstm_model"
   ]
  },
  {
   "cell_type": "code",
   "execution_count": 30,
   "metadata": {
    "pycharm": {
     "name": "#%%\n"
    }
   },
   "outputs": [],
   "source": [
    "train_word_lists, train_tag_lists, word2id, tag2id = build_corpus_origin(\"train\")\n",
    "dev_word_lists, dev_tag_lists = build_corpus_origin(\"dev\", make_vocab=False)\n",
    "test_word_lists, test_tag_lists = build_corpus_origin(\"test\", make_vocab=False)\n",
    "bilstm_word2id, bilstm_tag2id = extend_maps(word2id, tag2id, for_crf=False)\n",
    "# crf_word2id, crf_tag2id = extend_maps(word2id, tag2id, for_crf=True)\n",
    "# train_word_lists, train_tag_lists = prepocess_data_for_lstmcrf(train_word_lists, train_tag_lists)\n",
    "# dev_word_lists, dev_tag_lists = prepocess_data_for_lstmcrf(dev_word_lists, dev_tag_lists)\n",
    "# test_word_lists, test_tag_lists = prepocess_data_for_lstmcrf(test_word_lists, test_tag_lists, test=True)"
   ]
  },
  {
   "cell_type": "code",
   "execution_count": 31,
   "metadata": {
    "pycharm": {
     "name": "#%%\n"
    }
   },
   "outputs": [
    {
     "data": {
      "text/plain": "{'B-NAME': 0,\n 'E-NAME': 1,\n 'O': 2,\n 'B-CONT': 3,\n 'M-CONT': 4,\n 'E-CONT': 5,\n 'B-RACE': 6,\n 'E-RACE': 7,\n 'B-TITLE': 8,\n 'M-TITLE': 9,\n 'E-TITLE': 10,\n 'B-EDU': 11,\n 'M-EDU': 12,\n 'E-EDU': 13,\n 'B-ORG': 14,\n 'M-ORG': 15,\n 'E-ORG': 16,\n 'M-NAME': 17,\n 'B-PRO': 18,\n 'M-PRO': 19,\n 'E-PRO': 20,\n 'S-RACE': 21,\n 'S-NAME': 22,\n 'B-LOC': 23,\n 'M-LOC': 24,\n 'E-LOC': 25,\n 'M-RACE': 26,\n 'S-ORG': 27,\n '<unk>': 28,\n '<pad>': 29}"
     },
     "execution_count": 31,
     "metadata": {},
     "output_type": "execute_result"
    }
   ],
   "source": [
    "tag2id\n",
    "# \"B-NAME M-NAME E-NAME S-NAME 姓名\"\n",
    "# \"B-CONT M_CONT E_CONT 国籍\"\n",
    "# \"B-RACE M-RACE E-RACE S-RACE 民族\"\n",
    "# \"B-TITLE M-TITLE E-TITLE 头衔\"\n",
    "# \"B-EDU M-EDU E-EDU 学历\"\n",
    "# \"B-ORG M-ORG E-ORG S-ORG 组织\"\n",
    "# \"B-PRO M-PRO E-PRO 专业\"\n",
    "# \"B-LOC M-LOC E-LOC 地点\""
   ]
  },
  {
   "cell_type": "code",
   "execution_count": 32,
   "metadata": {
    "pycharm": {
     "name": "#%%\n"
    }
   },
   "outputs": [],
   "source": [
    "word_lists, tag_lists, indices = sort_by_lengths(test_word_lists, test_tag_lists)"
   ]
  },
  {
   "cell_type": "code",
   "execution_count": 14,
   "metadata": {
    "pycharm": {
     "name": "#%%\n"
    }
   },
   "outputs": [
    {
     "data": {
      "text/plain": "3821"
     },
     "execution_count": 14,
     "metadata": {},
     "output_type": "execute_result"
    }
   ],
   "source": [
    "len(train_word_lists)"
   ]
  },
  {
   "cell_type": "code",
   "execution_count": 15,
   "metadata": {
    "pycharm": {
     "name": "#%%\n"
    }
   },
   "outputs": [
    {
     "data": {
      "text/plain": "['高',\n '勇',\n '：',\n '男',\n '，',\n '中',\n '国',\n '国',\n '籍',\n '，',\n '无',\n '境',\n '外',\n '居',\n '留',\n '权',\n '，']"
     },
     "execution_count": 15,
     "metadata": {},
     "output_type": "execute_result"
    }
   ],
   "source": [
    "train_word_lists[0]"
   ]
  },
  {
   "cell_type": "code",
   "execution_count": 16,
   "outputs": [],
   "source": [
    "tensorized_sents, lengths = tensorized([train_word_lists[0]], bilstm_word2id)"
   ],
   "metadata": {
    "collapsed": false,
    "pycharm": {
     "name": "#%%\n"
    }
   }
  },
  {
   "cell_type": "code",
   "execution_count": 17,
   "metadata": {
    "pycharm": {
     "name": "#%%\n"
    }
   },
   "outputs": [],
   "source": [
    "# 有cuda就用上面这一句\n",
    "# tensorized_sents = tensorized_sents.cuda()\n",
    "# 将数据转移到 CPU\n",
    "tensorized_sents = tensorized_sents.cpu()"
   ]
  },
  {
   "cell_type": "code",
   "execution_count": 18,
   "metadata": {
    "pycharm": {
     "name": "#%%\n"
    }
   },
   "outputs": [
    {
     "data": {
      "text/plain": "torch.Size([1, 17])"
     },
     "execution_count": 18,
     "metadata": {},
     "output_type": "execute_result"
    }
   ],
   "source": [
    "tensorized_sents.shape"
   ]
  },
  {
   "cell_type": "code",
   "execution_count": 19,
   "metadata": {
    "pycharm": {
     "name": "#%%\n"
    }
   },
   "outputs": [],
   "source": [
    "batch_tagids = bilstm_model.model.test(tensorized_sents, lengths, bilstm_tag2id)"
   ]
  },
  {
   "cell_type": "code",
   "execution_count": 35,
   "metadata": {
    "pycharm": {
     "name": "#%%\n"
    }
   },
   "outputs": [],
   "source": [
    "# 将id转化为标注\n",
    "crf = False\n",
    "\n",
    "pred_tag_lists = []\n",
    "id2tag = dict((id_, tag) for tag, id_ in bilstm_tag2id.items())\n",
    "for i, ids in enumerate(batch_tagids):\n",
    "    tag_list = []\n",
    "\n",
    "    if crf:\n",
    "        for j in range(lengths[i] - 1):  # crf解码过程中，end被舍弃\n",
    "            tag_list.append(id2tag[ids[j].item()])\n",
    "    else:\n",
    "        for j in range(lengths[i]):\n",
    "            tag_list.append(id2tag[ids[j].item()])\n",
    "    \n",
    "    pred_tag_lists.append(tag_list)"
   ]
  },
  {
   "cell_type": "code",
   "execution_count": 36,
   "metadata": {
    "pycharm": {
     "name": "#%%\n"
    }
   },
   "outputs": [
    {
     "data": {
      "text/plain": "[['B-NAME',\n  'E-NAME',\n  'O',\n  'O',\n  'O',\n  'B-CONT',\n  'M-CONT',\n  'M-CONT',\n  'E-CONT',\n  'O',\n  'O',\n  'O',\n  'O',\n  'O',\n  'O',\n  'O',\n  'O']]"
     },
     "execution_count": 36,
     "metadata": {},
     "output_type": "execute_result"
    }
   ],
   "source": [
    "pred_tag_lists"
   ]
  },
  {
   "cell_type": "code",
   "execution_count": 38,
   "outputs": [],
   "source": [
    "#下面是对哈利波特中的句子进行测试"
   ],
   "metadata": {
    "collapsed": false,
    "pycharm": {
     "name": "#%%\n"
    }
   }
  },
  {
   "cell_type": "code",
   "execution_count": 33,
   "outputs": [],
   "source": [
    "def seperate_ch(sequence):\n",
    "    return [ch for ch in sequence]"
   ],
   "metadata": {
    "collapsed": false,
    "pycharm": {
     "name": "#%%\n"
    }
   }
  },
  {
   "cell_type": "code",
   "execution_count": 34,
   "outputs": [
    {
     "data": {
      "text/plain": "['哈', '利', '看', '着', '窗', '外', '没', '说', '话']"
     },
     "execution_count": 34,
     "metadata": {},
     "output_type": "execute_result"
    }
   ],
   "source": [
    "test = seperate_ch('哈利看着窗外没说话')\n",
    "test"
   ],
   "metadata": {
    "collapsed": false,
    "pycharm": {
     "name": "#%%\n"
    }
   }
  },
  {
   "cell_type": "code",
   "execution_count": 35,
   "outputs": [],
   "source": [
    "tensorized_sents, lengths = tensorized([test], bilstm_word2id)"
   ],
   "metadata": {
    "collapsed": false,
    "pycharm": {
     "name": "#%%\n"
    }
   }
  },
  {
   "cell_type": "code",
   "execution_count": 36,
   "outputs": [],
   "source": [
    "tensorized_sents = tensorized_sents.cpu()"
   ],
   "metadata": {
    "collapsed": false,
    "pycharm": {
     "name": "#%%\n"
    }
   }
  },
  {
   "cell_type": "code",
   "execution_count": 37,
   "outputs": [
    {
     "data": {
      "text/plain": "torch.Size([1, 9])"
     },
     "execution_count": 37,
     "metadata": {},
     "output_type": "execute_result"
    }
   ],
   "source": [
    "tensorized_sents.shape"
   ],
   "metadata": {
    "collapsed": false,
    "pycharm": {
     "name": "#%%\n"
    }
   }
  },
  {
   "cell_type": "code",
   "execution_count": 38,
   "outputs": [],
   "source": [
    "batch_tagids = bilstm_model.model.test(tensorized_sents, lengths, bilstm_tag2id)"
   ],
   "metadata": {
    "collapsed": false,
    "pycharm": {
     "name": "#%%\n"
    }
   }
  },
  {
   "cell_type": "code",
   "execution_count": 39,
   "outputs": [],
   "source": [
    "# 将id转化为标注\n",
    "crf = False\n",
    "\n",
    "pred_tag_lists = []\n",
    "id2tag = dict((id_, tag) for tag, id_ in bilstm_tag2id.items())\n",
    "for i, ids in enumerate(batch_tagids):\n",
    "    tag_list = []\n",
    "\n",
    "    if crf:\n",
    "        for j in range(lengths[i] - 1):  # crf解码过程中，end被舍弃\n",
    "            tag_list.append(id2tag[ids[j].item()])\n",
    "    else:\n",
    "        for j in range(lengths[i]):\n",
    "            tag_list.append(id2tag[ids[j].item()])\n",
    "\n",
    "    pred_tag_lists.append(tag_list)"
   ],
   "metadata": {
    "collapsed": false,
    "pycharm": {
     "name": "#%%\n"
    }
   }
  },
  {
   "cell_type": "code",
   "execution_count": 40,
   "outputs": [
    {
     "data": {
      "text/plain": "[['B-NAME', 'E-NAME', 'O', 'O', 'O', 'O', 'O', '<unk>', 'O']]"
     },
     "execution_count": 40,
     "metadata": {},
     "output_type": "execute_result"
    }
   ],
   "source": [
    "pred_tag_lists"
   ],
   "metadata": {
    "collapsed": false,
    "pycharm": {
     "name": "#%%\n"
    }
   }
  },
  {
   "cell_type": "code",
   "execution_count": null,
   "outputs": [],
   "source": [
    "# 对哈利波特书本进行实体识别"
   ],
   "metadata": {
    "collapsed": false,
    "pycharm": {
     "name": "#%%\n"
    }
   }
  },
  {
   "cell_type": "code",
   "execution_count": 1,
   "outputs": [],
   "source": [
    "with open(\"Harry_Potter.txt\", \"r\", encoding=\"utf-8\") as f:\n",
    "    total_lines = [line.strip() for line in f.readlines()]\n",
    "\n",
    "total_lines = [line for line in total_lines if line != '']"
   ],
   "metadata": {
    "collapsed": false,
    "pycharm": {
     "name": "#%%\n"
    }
   }
  },
  {
   "cell_type": "code",
   "execution_count": 2,
   "outputs": [],
   "source": [
    "# 分句\n",
    "cutLineFlag = [\"？\", \"！\", \"。\", \"!\"]\n",
    "sentenceList = []\n",
    "for words in total_lines:\n",
    "    oneSentence = \"\"\n",
    "    for word in words:\n",
    "        if word not in cutLineFlag:\n",
    "            oneSentence = oneSentence + word\n",
    "        else:\n",
    "            oneSentence = oneSentence + word\n",
    "            if oneSentence.__len__() > 4:\n",
    "                sentenceList.append(oneSentence.strip())\n",
    "            oneSentence = \"\""
   ],
   "metadata": {
    "collapsed": false,
    "pycharm": {
     "name": "#%%\n"
    }
   }
  },
  {
   "cell_type": "code",
   "execution_count": 5,
   "outputs": [],
   "source": [
    "resultList = []\n",
    "resultList = [seperate_ch(sentence) for sentence in sentenceList]"
   ],
   "metadata": {
    "collapsed": false,
    "pycharm": {
     "name": "#%%\n"
    }
   }
  },
  {
   "cell_type": "code",
   "execution_count": 23,
   "outputs": [],
   "source": [
    "tensorized_sents, lengths = tensorized(resultList, bilstm_word2id)"
   ],
   "metadata": {
    "collapsed": false,
    "pycharm": {
     "name": "#%%\n"
    }
   }
  },
  {
   "cell_type": "code",
   "execution_count": 24,
   "outputs": [],
   "source": [
    "tensorized_sents = tensorized_sents.cpu()"
   ],
   "metadata": {
    "collapsed": false,
    "pycharm": {
     "name": "#%%\n"
    }
   }
  },
  {
   "cell_type": "code",
   "execution_count": 25,
   "outputs": [],
   "source": [
    "batch_tagids = bilstm_model.model.test(tensorized_sents, lengths, bilstm_tag2id)"
   ],
   "metadata": {
    "collapsed": false,
    "pycharm": {
     "name": "#%%\n"
    }
   }
  },
  {
   "cell_type": "code",
   "execution_count": 26,
   "outputs": [],
   "source": [
    "# 将id转化为标注\n",
    "crf = False\n",
    "\n",
    "pred_tag_lists = []\n",
    "id2tag = dict((id_, tag) for tag, id_ in bilstm_tag2id.items())\n",
    "for i, ids in enumerate(batch_tagids):\n",
    "    tag_list = []\n",
    "\n",
    "    if crf:\n",
    "        for j in range(lengths[i] - 1):  # crf解码过程中，end被舍弃\n",
    "            tag_list.append(id2tag[ids[j].item()])\n",
    "    else:\n",
    "        for j in range(lengths[i]):\n",
    "            tag_list.append(id2tag[ids[j].item()])\n",
    "\n",
    "    pred_tag_lists.append(tag_list)"
   ],
   "metadata": {
    "collapsed": false,
    "pycharm": {
     "name": "#%%\n"
    }
   }
  }
 ]
}