{
 "cells": [
  {
   "cell_type": "code",
   "execution_count": 2,
   "id": "aba2b863",
   "metadata": {},
   "outputs": [],
   "source": [
    "# 连接neo4j\n",
    "from py2neo import Graph\n",
    "graph = Graph(\"bolt: // localhost:7687\", auth=(\"neo4j\", \"12345678\"))"
   ]
  },
  {
   "cell_type": "markdown",
   "id": "665a64ba",
   "metadata": {},
   "source": [
    "## 添加部分角色描述"
   ]
  },
  {
   "cell_type": "code",
   "execution_count": 2,
   "id": "977ad9b2",
   "metadata": {},
   "outputs": [
    {
     "data": {
      "text/html": [
       "<table><tr><th>n</th></tr><tr><td style=\"text-align:left\">(_100:Organization {label: &#039;\\u7ec4\\u7ec7&#039;, name: &#039;\\u683c\\u5170\\u82ac\\u591a&#039;, tag: &#039;\\u683c\\u5170\\u82ac\\u591a\\u5b66\\u9662\\u662f\\u7531\\u6208\\u5fb7\\u91cc\\u514b\\u00b7\\u683c\\u5170\\u82ac\\u591a\\u521b\\u529e\\u7684\\u5b66\\u9662\\u3002\\u5b83\\u7684\\u4ee3\\u8868\\u52a8\\u7269\\u662f\\u72ee\\u5b50\\uff0c\\u4ee3\\u8868\\u8272\\u662f\\u7ea2\\u548c\\u91d1\\u3002\\u5177\\u6709\\u52c7\\u6c14\\u3001\\u4ed7\\u4e49\\u4e0e\\u610f\\u5fd7\\u7684\\u5b66\\u751f\\u4f1a\\u88ab\\u5206\\u8fdb\\u683c\\u5170\\u82ac\\u591a\\u5b66\\u9662\\u3002&#039;})</td></tr></table>"
      ],
      "text/plain": [
       " n                                                                                                                                                                                                                                                                                                                                                                                                                                                                                            \n",
       "----------------------------------------------------------------------------------------------------------------------------------------------------------------------------------------------------------------------------------------------------------------------------------------------------------------------------------------------------------------------------------------------------------------------------------------------------------------------------------------------\n",
       " (_100:Organization {label: '\\u7ec4\\u7ec7', name: '\\u683c\\u5170\\u82ac\\u591a', tag: '\\u683c\\u5170\\u82ac\\u591a\\u5b66\\u9662\\u662f\\u7531\\u6208\\u5fb7\\u91cc\\u514b\\u00b7\\u683c\\u5170\\u82ac\\u591a\\u521b\\u529e\\u7684\\u5b66\\u9662\\u3002\\u5b83\\u7684\\u4ee3\\u8868\\u52a8\\u7269\\u662f\\u72ee\\u5b50\\uff0c\\u4ee3\\u8868\\u8272\\u662f\\u7ea2\\u548c\\u91d1\\u3002\\u5177\\u6709\\u52c7\\u6c14\\u3001\\u4ed7\\u4e49\\u4e0e\\u610f\\u5fd7\\u7684\\u5b66\\u751f\\u4f1a\\u88ab\\u5206\\u8fdb\\u683c\\u5170\\u82ac\\u591a\\u5b66\\u9662\\u3002'}) "
      ]
     },
     "execution_count": 2,
     "metadata": {},
     "output_type": "execute_result"
    }
   ],
   "source": [
    "query = \"match (n:entity) where n.name='鲁伯·海格' set n.tag='霍格沃茨的钥匙管理员、猎场看守，后来由于罪名洗脱和前任保护神奇生物课教授退休，加上海格对动物的喜爱，他接任了这门课，成了教授。为了让巨人们不与伏地魔为伍，他受校长邓布利多的委托担任了人与巨人间的信使。' return n\"\n",
    "graph.run(query)\n",
    "query = \"match (n:entity) where n.name='乔治·韦斯莱' set n.tag='弗雷德和乔治这对兄弟无疑是这个魔法世界里最搞笑，最有趣的人物。他们无论在任何时候任何地方都能带来笑声。只有他们一出现就会马上让人感到轻松和愉快。' return n\"\n",
    "graph.run(query)\n",
    "query = \"match (n:entity) where n.name='弗雷德·韦斯莱' set n.tag='弗雷德和乔治这对兄弟无疑是这个魔法世界里最搞笑，最有趣的人物。他们无论在任何时候任何地方都能带来笑声。只有他们一出现就会马上让人感到轻松和愉快。' return n\"\n",
    "graph.run(query)\n",
    "query = \"match (n:entity) where n.name='阿不思·邓布利多' set n.tag='邓布利多是霍格沃茨变形术教师和校长，凤凰社创始人和保密人、国际魔法师联合会主席、威森加摩首席魔法师，同时也是一级梅林勋章获得者' return n\"\n",
    "graph.run(query)\n",
    "query = \"match (n:entity) where n.name='米勒娃·麦格' set n.tag='她是位公平的导师，对四个学院一视同仁。即便是自己学院的学生触犯校规她也严惩不贷，即使最后丢掉学院杯，因此获得了全体同学的尊敬，她在校长之位上也会将她公平的原则继续下去。' return n\"\n",
    "graph.run(query)\n",
    "query = \"match (n:entity) where n.name='伊索特·塞耶' set n.tag='伊索特·塞耶是一个爱尔兰纯血统女巫。她是威廉·塞耶和雷欧娜·冈特的女儿，也是詹姆·斯图尔特的妻子。伊索特和丈夫共同创办了伊尔弗莫尼魔法学校。' return n\"\n",
    "graph.run(query)\n",
    "query = \"match (n) where n.name='霍格沃茨魔法学校' set n.tag='霍格沃茨成立于公元990年前后，被认为是魔法世界中最好的魔法机构之一，尽管还有其他著名的魔法学校：例如布斯巴顿魔法学校和德姆斯特朗魔法学校。霍格沃茨学院共分为四个学院，分别是格兰芬多、赫奇帕奇、拉文克劳和斯莱特林。' return n\"\n",
    "graph.run(query)\n",
    "query = \"match (n:entity) where n.name='德拉科·马尔福' set n.tag='马尔福是个纯血统巫师，卢修斯·马尔福和纳西莎·马尔福的独生子。作为食死徒的孩子，德拉科从小就坚信血统纯正的重要性，与主人公哈利·波特是死对头' return n\"\n",
    "graph.run(query)\n",
    "query = \"match (n:entity) where n.name='卢修斯·马尔福' set n.tag='他是一名食死徒，会黑魔法。卢修斯在操纵利用别人这方面也是能手。他把自己的财富和家世作为武器，利用威胁其他巫师顺从他的命令。娶了纳西莎·布莱克为妻，并有一子德拉科·马尔福。' return n\"\n",
    "graph.run(query)\n",
    "query = \"match (n:entity) where n.name='沃尔布加·布莱克' set n.tag='沃尔布加在格里莫广场长大，把这里称为“祖上的家宅”。她逝世于1985年，但画像一直被悬挂在格里莫广场12号中，不停地咒骂进入这里的纯血统叛徒、混血巫师以及“玷污”家族的人。' return n\"\n",
    "graph.run(query)\n",
    "query = \"match (n) where n.name='魔法部' set n.tag='魔法部负责掌管英国魔法界的所有事务。魔法部的前身是巫师评议会，其最高首长为议长。在改组为魔法部后，以魔法部长为首，下辖七个部门，主要的目的是维持魔法界和麻瓜界的平衡，以及保护所有巫师和魔法不被麻瓜发现。' return n\"\n",
    "graph.run(query)\n",
    "query = \"match (n) where n.name='英国魔法部' set n.tag='英国魔法部负责掌管英国魔法界的所有事务。魔法部的前身是巫师评议会，其最高首长为议长。在改组为魔法部后，以魔法部长为首，下辖七个部门，主要的目的是维持魔法界和麻瓜界的平衡，以及保护所有巫师和魔法不被麻瓜发现。' return n\"\n",
    "graph.run(query)\n",
    "query = \"match (n) where n.name='美国魔法国会' set n.tag='美国魔法国会是美国魔法社会的主要管理机构，位于纽约市区的伍尔沃斯大楼。与麻瓜美国国会分为众议院和参议院不同的是，美国魔法国会采用的是一院制。' return n\"\n",
    "graph.run(query)\n",
    "query = \"match (n:entity) where n.name='小天狼星·布莱克' set n.tag='哈利·波特的教父，是哈利父亲詹姆·波特的好友，与莱姆斯·卢平、詹姆·波特、彼得·佩迪鲁四人组成小团体--掠夺者，凤凰社的成员之一。' return n\"\n",
    "graph.run(query)\n",
    "query = \"match (n:entity) where n.name='卢娜·洛夫古德' set n.tag='卢娜·洛夫古德是个英国女巫，也是谢诺菲留斯和潘多拉·洛夫古德的独生女。卢娜九岁时，她母亲在进行咒语试验时意外身亡。此后卢娜由她身为《唱唱反调》编辑的父亲独自一人抚养。' return n\"\n",
    "graph.run(query)\n",
    "query = \"match (n:entity) where n.name='多洛雷斯·乌姆里奇' set n.tag='她在1995年成为了霍格沃茨魔法学校的黑魔法防御术教授，并在之后一年中先后成为了霍格沃茨高级调查官和校长。这三个职位使得她在霍格沃茨中有很大的权力，开始对学校的学生和教师采取专制的手段。' return n\"\n",
    "graph.run(query)\n",
    "query = \"match (n) where n.name='鼻涕虫俱乐部' set n.tag='霍拉斯·斯拉格霍恩在霍格沃茨开设的一个集会，专门邀请优秀的学生、著名人士和成功人士的子弟，以及在魔法界有着很好的人际关系的家族里的孩子。' return n\"\n",
    "graph.run(query)\n",
    "query = \"match (n) where n.name='邓布利多军' set n.tag='邓布利多军又称为防御协会，是一个由哈利·波特、罗恩·韦斯莱和赫敏·格兰杰于1995年创立的秘密社团，成立目的是让霍格沃茨学生真正学习黑魔法防御术。' return n\"\n",
    "graph.run(query)\n",
    "query = \"match (n) where n.name='格兰芬多学院' set n.tag='格兰芬多学院是由戈德里克·格兰芬多创办的学院。它的代表动物是狮子，代表色是红和金。具有勇气、仗义与意志的学生会被分进格兰芬多学院。' return n\"\n",
    "graph.run(query)\n",
    "query = \"match (n) where n.name='格兰芬多' set n.tag='格兰芬多学院是由戈德里克·格兰芬多创办的学院。它的代表动物是狮子，代表色是红和金。具有勇气、仗义与意志的学生会被分进格兰芬多学院。' return n\"\n",
    "graph.run(query)"
   ]
  },
  {
   "cell_type": "code",
   "execution_count": 3,
   "id": "6d600151",
   "metadata": {},
   "outputs": [
    {
     "data": {
      "text/html": [
       "<table><tr><th>n</th></tr><tr><td style=\"text-align:left\">(_47:Organization {label: &#039;\\u7ec4\\u7ec7&#039;, name: &#039;\\u65af\\u83b1\\u7279\\u6797&#039;, tag: &#039;\\u65af\\u83b1\\u7279\\u6797\\u5b66\\u9662\\u662f\\u970d\\u683c\\u6c83\\u8328\\u9b54\\u6cd5\\u5b66\\u6821\\u7684\\u56db\\u4e2a\\u5b66\\u9662\\u4e4b\\u4e00\\uff0c\\u5b83\\u7684\\u5b66\\u751f\\u901a\\u5e38\\u90fd\\u8868\\u73b0\\u51fa\\u7cbe\\u660e\\u3001\\u673a\\u667a\\u548c\\u91ce\\u5fc3\\u7b49\\u7279\\u5f81\\u3002\\u65af\\u83b1\\u7279\\u6797\\u7684\\u4ee3\\u8868\\u52a8\\u7269\\u662f\\u86c7\\uff0c\\u4ee3\\u8868\\u8272\\u662f\\u7eff\\u548c\\u94f6\\u3002&#039;})</td></tr></table>"
      ],
      "text/plain": [
       " n                                                                                                                                                                                                                                                                                                                                                                                                                                                                                           \n",
       "---------------------------------------------------------------------------------------------------------------------------------------------------------------------------------------------------------------------------------------------------------------------------------------------------------------------------------------------------------------------------------------------------------------------------------------------------------------------------------------------\n",
       " (_47:Organization {label: '\\u7ec4\\u7ec7', name: '\\u65af\\u83b1\\u7279\\u6797', tag: '\\u65af\\u83b1\\u7279\\u6797\\u5b66\\u9662\\u662f\\u970d\\u683c\\u6c83\\u8328\\u9b54\\u6cd5\\u5b66\\u6821\\u7684\\u56db\\u4e2a\\u5b66\\u9662\\u4e4b\\u4e00\\uff0c\\u5b83\\u7684\\u5b66\\u751f\\u901a\\u5e38\\u90fd\\u8868\\u73b0\\u51fa\\u7cbe\\u660e\\u3001\\u673a\\u667a\\u548c\\u91ce\\u5fc3\\u7b49\\u7279\\u5f81\\u3002\\u65af\\u83b1\\u7279\\u6797\\u7684\\u4ee3\\u8868\\u52a8\\u7269\\u662f\\u86c7\\uff0c\\u4ee3\\u8868\\u8272\\u662f\\u7eff\\u548c\\u94f6\\u3002'}) "
      ]
     },
     "execution_count": 3,
     "metadata": {},
     "output_type": "execute_result"
    }
   ],
   "source": [
    "query = \"match (n) where n.name='拉文克劳学院' set n.tag='霍格沃茨魔法学校的四大分院之一，象征四大元素中的风。由罗伊纳·拉文克劳创立，以智慧聪敏作择生条件。哈利·波特的初恋女友秋·张，以及哈利的好友卢娜·洛夫古德都是此学院的学生。' return n\"\n",
    "graph.run(query)\n",
    "query = \"match (n) where n.name='拉文克劳' set n.tag='霍格沃茨魔法学校的四大分院之一，象征四大元素中的风。由罗伊纳·拉文克劳创立，以智慧聪敏作择生条件。哈利·波特的初恋女友秋·张，以及哈利的好友卢娜·洛夫古德都是此学院的学生。' return n\"\n",
    "graph.run(query)\n",
    "query = \"match (n) where n.name='赫奇帕奇学院' set n.tag='霍格沃茨魔法学校的四大学院之一，赫奇帕奇以特别擅长与食物有关的咒语而闻名，也许是霍格沃茨魔法学校的四大学院里拥有学生最多，最好心的学院了。' return n\"\n",
    "graph.run(query)\n",
    "query = \"match (n) where n.name='赫奇帕奇' set n.tag='霍格沃茨魔法学校的四大学院之一，赫奇帕奇以特别擅长与食物有关的咒语而闻名，也许是霍格沃茨魔法学校的四大学院里拥有学生最多，最好心的学院了。' return n\"\n",
    "graph.run(query)\n",
    "query = \"match (n) where n.name='斯莱特林学院' set n.tag='斯莱特林学院是霍格沃茨魔法学校的四个学院之一，它的学生通常都表现出精明、机智和野心等特征。斯莱特林的代表动物是蛇，代表色是绿和银。' return n\"\n",
    "graph.run(query)\n",
    "query = \"match (n) where n.name='斯莱特林' set n.tag='斯莱特林学院是霍格沃茨魔法学校的四个学院之一，它的学生通常都表现出精明、机智和野心等特征。斯莱特林的代表动物是蛇，代表色是绿和银。' return n\"\n",
    "graph.run(query)"
   ]
  },
  {
   "cell_type": "markdown",
   "id": "9f098856",
   "metadata": {},
   "source": [
    "## 添加魔药及其成分组成关系"
   ]
  },
  {
   "cell_type": "code",
   "execution_count": 7,
   "id": "1631afb1",
   "metadata": {},
   "outputs": [],
   "source": [
    "from py2neo import Relationship\n",
    "from py2neo import Node\n",
    "x1 = Node('entity', name='活地狱汤剂',label='对象',tag='1.切碎水仙根或月露花成粉末加入艾草浸液。2.缬草根和用银短刀切瞌睡豆出汁，倒入坩埚药剂会由深紫色变成淡雪青色。3.必须逆时针搅拌，直到药剂变得像水一样清。')\n",
    "x11 = Node('entity', name='艾草浸液',label='对象',tag='从艾草中提取的物质')\n",
    "x12 = Node('entity', name='水仙根或月露花',label='对象')\n",
    "x13 = Node('entity', name='缬草',label='对象')\n",
    "x14 = Node('entity', name='瞌睡豆',label='对象')\n",
    "graph.create(x1)\n",
    "graph.create(x11)\n",
    "graph.create(x12)\n",
    "graph.create(x13)\n",
    "graph.create(x14)\n",
    "r11 = Relationship(x1,'成分',x11)\n",
    "r12 = Relationship(x1,'成分',x12)\n",
    "r13 = Relationship(x1,'成分',x13)\n",
    "r14 = Relationship(x1,'成分',x14)\n",
    "graph.create(r11)\n",
    "graph.create(r12)\n",
    "graph.create(r13)\n",
    "graph.create(r14)"
   ]
  },
  {
   "cell_type": "code",
   "execution_count": 8,
   "id": "77b1210d",
   "metadata": {},
   "outputs": [],
   "source": [
    "x2 = Node('entity', name='欢欣剂',label='对象',tag='1.合欢花的根捣碎，独角兽的毛发倒入热水浸泡20分钟。刚制作出来时会呈现出阳光般的金黄色。2.此时立即将合欢花的粉末倒入锅内即可，呈现出清澈的金色。')\n",
    "x21 = Node('entity', name='合欢花',label='对象',tag='喜温暖湿润和阳光充足环境，气微香，味淡。')\n",
    "x22 = Node('entity', name='独角兽的毛发',label='对象')\n",
    "graph.create(x2)\n",
    "graph.create(x21)\n",
    "graph.create(x22)\n",
    "r21 = Relationship(x2,'成分',x21)\n",
    "r22 = Relationship(x2,'成分',x22)\n",
    "graph.create(r21)\n",
    "graph.create(r22)"
   ]
  },
  {
   "cell_type": "code",
   "execution_count": 9,
   "id": "d18e9c17",
   "metadata": {},
   "outputs": [],
   "source": [
    "x3 = Node('entity', name='打嗝药水',label='对象',tag='1.含羞草、香子兰的皮捣碎成泥状倒入锅中后呈现紫色的团状。2.把独角兽的毛发碾碎后不断搅拌团状液体。3.等到液体冒气泡后立即把毛发的粉末撒入锅内，锅内则会变成蓝色风铃草的颜色就可以了。')\n",
    "x31 = Node('entity', name='含羞草',label='对象')\n",
    "x32 = Node('entity', name='香子兰的皮',label='对象')\n",
    "x33 = Node('entity', name='独角兽的毛发',label='对象')\n",
    "graph.create(x3)\n",
    "graph.create(x31)\n",
    "graph.create(x32)\n",
    "graph.create(x33)\n",
    "r31 = Relationship(x3,'成分',x31)\n",
    "r32 = Relationship(x3,'成分',x32)\n",
    "r33 = Relationship(x3,'成分',x33)\n",
    "graph.create(r31)\n",
    "graph.create(r32)\n",
    "graph.create(r33)"
   ]
  },
  {
   "cell_type": "code",
   "execution_count": 10,
   "id": "5e004707",
   "metadata": {},
   "outputs": [],
   "source": [
    "x4 = Node('entity', name='永恒药剂',label='对象',tag='1.将所有材料捣碎成粉末状倒入坩埚中。2.在这七天内挥动魔杖让药剂的颜色按照顺序变成彩虹的七种颜色。3.最后一天变成紫色后用勺子大力搅拌成透明液体才能完成药剂制作。')\n",
    "x41 = Node('entity', name='烧焦的雪鼠毛皮',label='对象')\n",
    "x42 = Node('entity', name='鹰头马身有翼兽的羽毛',label='对象')\n",
    "x43 = Node('entity', name='泥沼蟹壳',label='对象')\n",
    "x44 = Node('entity', name='吸血鬼的灰烬',label='对象')\n",
    "graph.create(x4)\n",
    "graph.create(x41)\n",
    "graph.create(x42)\n",
    "graph.create(x43)\n",
    "graph.create(x44)\n",
    "r41 = Relationship(x4,'成分',x41)\n",
    "r42 = Relationship(x4,'成分',x42)\n",
    "r43 = Relationship(x4,'成分',x43)\n",
    "r44 = Relationship(x4,'成分',x44)\n",
    "graph.create(r41)\n",
    "graph.create(r42)\n",
    "graph.create(r43)\n",
    "graph.create(r44)"
   ]
  },
  {
   "cell_type": "markdown",
   "id": "64e38d59",
   "metadata": {},
   "source": [
    "## ！不用做，删除错误节点和边"
   ]
  },
  {
   "cell_type": "code",
   "execution_count": 6,
   "id": "3f947627",
   "metadata": {},
   "outputs": [
    {
     "data": {
      "text/html": [
       "(No data)"
      ],
      "text/plain": [
       "(No data)"
      ]
     },
     "execution_count": 6,
     "metadata": {},
     "output_type": "execute_result"
    }
   ],
   "source": [
    "query = \"match (n)-[r]-() where n.name='活地狱汤剂' delete n,r\"\n",
    "graph.run(query)\n",
    "query = \"match (n)-[r]-() where n.name='艾草浸液' delete n,r\"\n",
    "graph.run(query)\n",
    "query = \"match (n)-[r]-() where n.name='水仙根或月露花' delete n,r\"\n",
    "graph.run(query)\n",
    "query = \"match (n)-[r]-() where n.name='缬草' delete n,r\"\n",
    "graph.run(query)\n",
    "query = \"match (n)-[r]-() where n.name='瞌睡豆' delete n,r\"\n",
    "graph.run(query)"
   ]
  }
 ],
 "metadata": {
  "kernelspec": {
   "display_name": "Python 3 (ipykernel)",
   "language": "python",
   "name": "python3"
  },
  "language_info": {
   "codemirror_mode": {
    "name": "ipython",
    "version": 3
   },
   "file_extension": ".py",
   "mimetype": "text/x-python",
   "name": "python",
   "nbconvert_exporter": "python",
   "pygments_lexer": "ipython3",
   "version": "3.10.9"
  }
 },
 "nbformat": 4,
 "nbformat_minor": 5
}