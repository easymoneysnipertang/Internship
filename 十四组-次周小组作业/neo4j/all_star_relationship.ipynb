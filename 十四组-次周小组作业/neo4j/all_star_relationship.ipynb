{
 "cells": [
  {
   "cell_type": "markdown",
   "id": "63b8de8b",
   "metadata": {},
   "source": [
    "# neo4j保存明星关系"
   ]
  },
  {
   "cell_type": "code",
   "execution_count": 1,
   "id": "78969edf",
   "metadata": {},
   "outputs": [],
   "source": [
    "# 连接neo4j\n",
    "from py2neo import Graph\n",
    "graph = Graph(\"bolt: // localhost:7687\", auth=(\"neo4j\", \"12345678\"))"
   ]
  },
  {
   "cell_type": "markdown",
   "id": "0920ca56",
   "metadata": {},
   "source": [
    "## 清空原有数据库"
   ]
  },
  {
   "cell_type": "code",
   "execution_count": 2,
   "id": "0c1c8086",
   "metadata": {},
   "outputs": [],
   "source": [
    "graph.delete_all()  # 删除已有数据库内容"
   ]
  },
  {
   "cell_type": "markdown",
   "id": "85072679",
   "metadata": {},
   "source": [
    "## 创建明星节点并存入数据库"
   ]
  },
  {
   "cell_type": "code",
   "execution_count": 3,
   "id": "3663f0f1",
   "metadata": {},
   "outputs": [
    {
     "data": {
      "text/plain": [
       "(Node('明星', age=40, name='陈冠希', sex='男'),\n",
       " Node('明星', age=53, name='王菲', sex='女'),\n",
       " Node('明星', age=52, name='李亚鹏', sex='男'))"
      ]
     },
     "execution_count": 3,
     "metadata": {},
     "output_type": "execute_result"
    }
   ],
   "source": [
    "# 创建明星节点\n",
    "from py2neo import Node\n",
    "guanxi = Node('明星', name='陈冠希', sex='男',age=40)\n",
    "wangfei = Node('明星', name='王菲', sex='女',age=53)\n",
    "liyapeng = Node('明星', name='李亚鹏', sex='男',age=52)\n",
    "zhaiying = Node('明星', name='翟颖', sex='女',age=52)\n",
    "zhangbozhi = Node('明星', name='张柏芝', sex='女',age=42)\n",
    "xietingfeng = Node('明星', name='谢霆锋', sex='男',age=42)\n",
    "zhouxun = Node('明星', name='周迅', sex='女',age=46)\n",
    "zhangyadong = Node('明星', name='张亚东', sex='男',age=55)\n",
    "douwei = Node('明星', name='窦唯', sex='男',age=54)\n",
    "doupeng = Node('明星', name='窦鹏', sex='男',age=51)\n",
    "lidaqi = Node('明星', name='李大齐', sex='男',age=53)\n",
    "pushu = Node('明星', name='朴树', sex='男',age=53)\n",
    "douying = Node('明星', name='窦颖', sex='女',age=52)\n",
    "liangchaowei = Node('明星', name='梁朝伟', sex='男',age=61)\n",
    "liujialing = Node('明星', name='刘嘉玲', sex='女',age=59)\n",
    "doujingtong = Node('明星', name='窦靖童', sex='女',age=26)\n",
    "naying = Node('明星', name='那英', sex='女',age=55)\n",
    "guanxi, wangfei, liyapeng"
   ]
  },
  {
   "cell_type": "code",
   "execution_count": 4,
   "id": "b32caa17",
   "metadata": {},
   "outputs": [
    {
     "data": {
      "text/plain": [
       "3"
      ]
     },
     "execution_count": 4,
     "metadata": {},
     "output_type": "execute_result"
    }
   ],
   "source": [
    "# 获取 key 对应的属性\n",
    "guanxi['name']\n",
    "# 设置 key 对应属性的 value，如果 key 不存在就创建\n",
    "guanxi['hobby'] = '三百块'\n",
    "guanxi\n",
    "# 删除某个属性\n",
    "del guanxi['hobby']\n",
    "guanxi\n",
    "# 返回节点中 property 的个数\n",
    "len(guanxi)"
   ]
  },
  {
   "cell_type": "code",
   "execution_count": 5,
   "id": "9eaf616a",
   "metadata": {
    "scrolled": true
   },
   "outputs": [
    {
     "data": {
      "text/plain": [
       "(Node('明星', age=40, name='陈冠希', sex='男'),\n",
       " Node('明星', age=53, name='王菲', sex='女'),\n",
       " Node('明星', age=52, name='李亚鹏', sex='男'))"
      ]
     },
     "execution_count": 5,
     "metadata": {},
     "output_type": "execute_result"
    }
   ],
   "source": [
    "# 在 Neo4j 数据库中创建节点\n",
    "graph.create(guanxi)\n",
    "graph.create(wangfei)\n",
    "graph.create(liyapeng)\n",
    "graph.create(zhaiying)\n",
    "graph.create(zhangbozhi)\n",
    "graph.create(xietingfeng)\n",
    "graph.create(zhouxun)\n",
    "graph.create(zhangyadong)\n",
    "graph.create(douwei)\n",
    "graph.create(doupeng)\n",
    "graph.create(lidaqi)\n",
    "graph.create(pushu)\n",
    "graph.create(douying)\n",
    "graph.create(liangchaowei)\n",
    "graph.create(liujialing)\n",
    "graph.create(doujingtong)\n",
    "graph.create(naying)\n",
    "# 打印结果\n",
    "guanxi, wangfei, liyapeng"
   ]
  },
  {
   "cell_type": "markdown",
   "id": "44c035ff",
   "metadata": {},
   "source": [
    "## 创建明星间的关系并存入数据库"
   ]
  },
  {
   "cell_type": "code",
   "execution_count": 6,
   "id": "50997a0d",
   "metadata": {},
   "outputs": [
    {
     "data": {
      "text/plain": [
       "(旧爱(Node('明星', age=46, name='周迅', sex='女'), Node('明星', age=51, name='窦鹏', sex='男')),\n",
       " 旧爱(Node('明星', age=46, name='周迅', sex='女'), Node('明星', age=53, name='李大齐', sex='男')),\n",
       " 旧爱(Node('明星', age=46, name='周迅', sex='女'), Node('明星', age=53, name='朴树', sex='男')))"
      ]
     },
     "execution_count": 6,
     "metadata": {},
     "output_type": "execute_result"
    }
   ],
   "source": [
    "from py2neo import Relationship\n",
    "# 创建明星间的关系\n",
    "rel1 = Relationship(zhouxun,'旧爱',doupeng)\n",
    "rel2 = Relationship(zhouxun,'旧爱',lidaqi)\n",
    "rel3 = Relationship(zhouxun,'旧爱',pushu)\n",
    "rel4 = Relationship(zhouxun,'旧爱',liyapeng)\n",
    "rel5 = Relationship(zhouxun,'绯闻',liangchaowei)\n",
    "rel6 = Relationship(zhouxun,'绯闻',xietingfeng)\n",
    "rel7 = Relationship(wangfei,'离异',liyapeng)\n",
    "rel8 = Relationship(wangfei,'旧爱',xietingfeng)\n",
    "rel9 = Relationship(wangfei,'离异',douwei)\n",
    "rel10 = Relationship(xietingfeng,'旧友',guanxi)\n",
    "rel11 = Relationship(xietingfeng,'离异',zhangbozhi)\n",
    "rel12 = Relationship(zhangyadong,'制作人',pushu)\n",
    "rel13 = Relationship(zhangyadong,'离异',douying)\n",
    "rel14 = Relationship(zhangyadong,'制作人',wangfei)\n",
    "rel15 = Relationship(liyapeng,'旧爱',zhaiying)\n",
    "rel16 = Relationship(guanxi,'旧爱',zhangbozhi)\n",
    "rel17 = Relationship(zhaiying,'旧爱',zhangyadong)\n",
    "rel18 = Relationship(douwei,'堂兄弟',doupeng)\n",
    "rel19 = Relationship(douwei,'兄妹',douying)\n",
    "rel20 = Relationship(liangchaowei,'夫妻',liujialing)\n",
    "rel21 = Relationship(wangfei,'好友',liujialing)\n",
    "rel22 = Relationship(wangfei,'母亲',doujingtong)\n",
    "rel23 = Relationship(douwei,'父亲',doujingtong)\n",
    "rel24 = Relationship(douying,'姑妈',doujingtong)\n",
    "rel25 = Relationship(wangfei,'好友',naying)\n",
    "rel26 = Relationship(naying,'好友',zhouxun)\n",
    "rel27 = Relationship(naying,'辱骂',zhangbozhi)\n",
    "# 打印结果\n",
    "rel1,rel2,rel3"
   ]
  },
  {
   "cell_type": "code",
   "execution_count": 8,
   "id": "d1045c7f",
   "metadata": {},
   "outputs": [],
   "source": [
    "# 设置对向关系\n",
    "rel12 = Relationship(doupeng,'旧爱',zhouxun)\n",
    "rel22 = Relationship(lidaqi,'旧爱',zhouxun)\n",
    "rel32 = Relationship(pushu,'旧爱',zhouxun)\n",
    "rel42 = Relationship(liyapeng,'旧爱',zhouxun)\n",
    "rel52 = Relationship(liangchaowei,'绯闻',zhouxun)\n",
    "rel62 = Relationship(xietingfeng,'绯闻',zhouxun)\n",
    "rel72 = Relationship(liyapeng,'离异',wangfei)\n",
    "rel82 = Relationship(xietingfeng,'旧爱',wangfei)\n",
    "rel92 = Relationship(douwei,'离异',wangfei)\n",
    "rel102 = Relationship(guanxi,'旧友',xietingfeng)\n",
    "rel112 = Relationship(zhangbozhi,'离异',xietingfeng)\n",
    "\n",
    "rel132 = Relationship(douying,'离异',zhangyadong)\n",
    "\n",
    "rel152 = Relationship(zhaiying,'旧爱',liyapeng)\n",
    "rel162 = Relationship(zhangbozhi,'旧爱',guanxi)\n",
    "rel172 = Relationship(zhangyadong,'旧爱',zhaiying)\n",
    "rel182 = Relationship(doupeng,'堂兄弟',douwei)\n",
    "rel192 = Relationship(douying,'兄妹',douwei)\n",
    "rel202 = Relationship(liujialing,'夫妻',liangchaowei)\n",
    "rel212 = Relationship(liujialing,'好友',wangfei)\n",
    "rel222 = Relationship(doujingtong,'女儿',wangfei)\n",
    "rel232 = Relationship(doujingtong,'女儿',douwei)\n",
    "\n",
    "rel252 = Relationship(naying,'好友',wangfei)\n",
    "rel262 = Relationship(zhouxun,'好友',naying)\n"
   ]
  },
  {
   "cell_type": "code",
   "execution_count": 9,
   "id": "518ca2d7",
   "metadata": {},
   "outputs": [
    {
     "data": {
      "text/plain": [
       "旧爱(Node('明星', age=46, name='周迅', sex='女'), Node('明星', age=51, name='窦鹏', sex='男'))"
      ]
     },
     "execution_count": 9,
     "metadata": {},
     "output_type": "execute_result"
    }
   ],
   "source": [
    "# 设置对应属性的 value\n",
    "rel1['time']='2002'\n",
    "rel1\n",
    "# 删除某个属性\n",
    "del rel1['time']\n",
    "rel1"
   ]
  },
  {
   "cell_type": "code",
   "execution_count": 10,
   "id": "476526fb",
   "metadata": {},
   "outputs": [],
   "source": [
    "# 创建关系\n",
    "graph.create(rel1)\n",
    "graph.create(rel2)\n",
    "graph.create(rel3)\n",
    "graph.create(rel4)\n",
    "graph.create(rel5)\n",
    "graph.create(rel6)\n",
    "graph.create(rel7)\n",
    "graph.create(rel8)\n",
    "graph.create(rel9)\n",
    "graph.create(rel10)\n",
    "graph.create(rel11)\n",
    "graph.create(rel12)\n",
    "graph.create(rel13)\n",
    "graph.create(rel14)\n",
    "graph.create(rel15)\n",
    "graph.create(rel16)\n",
    "graph.create(rel17)\n",
    "graph.create(rel18)\n",
    "graph.create(rel19)\n",
    "graph.create(rel20)\n",
    "graph.create(rel21)\n",
    "graph.create(rel22)\n",
    "graph.create(rel23)\n",
    "graph.create(rel24)\n",
    "graph.create(rel25)\n",
    "graph.create(rel26)\n",
    "graph.create(rel27)"
   ]
  },
  {
   "cell_type": "code",
   "execution_count": 11,
   "id": "e7db32df",
   "metadata": {},
   "outputs": [],
   "source": [
    "# 创建关系\n",
    "graph.create(rel12)\n",
    "graph.create(rel22)\n",
    "graph.create(rel32)\n",
    "graph.create(rel42)\n",
    "graph.create(rel52)\n",
    "graph.create(rel62)\n",
    "graph.create(rel72)\n",
    "graph.create(rel82)\n",
    "graph.create(rel92)\n",
    "graph.create(rel102)\n",
    "graph.create(rel112)\n",
    "\n",
    "graph.create(rel132)\n",
    "\n",
    "graph.create(rel152)\n",
    "graph.create(rel162)\n",
    "graph.create(rel172)\n",
    "graph.create(rel182)\n",
    "graph.create(rel192)\n",
    "graph.create(rel202)\n",
    "graph.create(rel212)\n",
    "graph.create(rel222)\n",
    "graph.create(rel232)\n",
    "\n",
    "graph.create(rel252)\n",
    "graph.create(rel262)"
   ]
  },
  {
   "cell_type": "markdown",
   "id": "ac93a04d",
   "metadata": {},
   "source": [
    "## 创造地点节点并存入数据库"
   ]
  },
  {
   "cell_type": "code",
   "execution_count": 12,
   "id": "6372bed9",
   "metadata": {},
   "outputs": [],
   "source": [
    "# 创建地点节点\n",
    "China = Node('地点', name='中国')\n",
    "Canada = Node('地点', name='加拿大')\n",
    "xinjiang = Node('地点', name='新疆')\n",
    "hunan = Node('地点', name='湖南')\n",
    "shanxi = Node('地点', name='山西')\n",
    "beijing = Node('地点', name='北京')\n",
    "hangzhou = Node('地点', name='杭州')\n",
    "xianggang = Node('地点', name='香港')\n",
    "liaoning = Node('地点', name='辽宁')\n",
    "suzhou = Node('地点', name='苏州')"
   ]
  },
  {
   "cell_type": "code",
   "execution_count": 13,
   "id": "7ef07ba0",
   "metadata": {},
   "outputs": [],
   "source": [
    "graph.create(China)\n",
    "graph.create(Canada)\n",
    "graph.create(xinjiang)\n",
    "graph.create(hunan)\n",
    "graph.create(shanxi)\n",
    "graph.create(beijing)\n",
    "graph.create(hangzhou)\n",
    "graph.create(xianggang)\n",
    "graph.create(liaoning)\n",
    "graph.create(suzhou)"
   ]
  },
  {
   "cell_type": "markdown",
   "id": "6b9924d6",
   "metadata": {},
   "source": [
    "## 创建地点间的关系，明星与地点间的关系"
   ]
  },
  {
   "cell_type": "code",
   "execution_count": 14,
   "id": "37bcbc7f",
   "metadata": {},
   "outputs": [],
   "source": [
    "# 地点之间的关系：辽宁属于中国\n",
    "in1 = Relationship(xinjiang,'属于',China)\n",
    "in2 = Relationship(hunan,'属于',China)\n",
    "in3 = Relationship(shanxi,'属于',China)\n",
    "in4 = Relationship(beijing,'属于',China)\n",
    "in5 = Relationship(hangzhou,'属于',China)\n",
    "in6 = Relationship(xianggang,'属于',China)\n",
    "in7 = Relationship(liaoning,'属于',China)\n",
    "in8 = Relationship(suzhou,'属于',China)\n",
    "graph.create(in1)\n",
    "graph.create(in2)\n",
    "graph.create(in3)\n",
    "graph.create(in4)\n",
    "graph.create(in5)\n",
    "graph.create(in6)\n",
    "graph.create(in7)\n",
    "graph.create(in8)"
   ]
  },
  {
   "cell_type": "code",
   "execution_count": 19,
   "id": "8d8c1c69",
   "metadata": {},
   "outputs": [
    {
     "data": {
      "text/plain": [
       "(出生于(Node('明星', age=55, name='那英', sex='女'), Node('地点', name='辽宁')),\n",
       " 出生于(Node('明星', age=59, name='刘嘉玲', sex='女'), Node('地点', name='苏州')))"
      ]
     },
     "execution_count": 19,
     "metadata": {},
     "output_type": "execute_result"
    }
   ],
   "source": [
    "# 明星与地点间的关系：明星出生于辽宁，国籍是中国\n",
    "born1 = Relationship(guanxi,'出生于',Canada)\n",
    "nation1 = Relationship(guanxi,'国籍',Canada)\n",
    "born2 = Relationship(wangfei,'出生于',beijing)\n",
    "nation2 = Relationship(wangfei,'国籍',China)\n",
    "born3 = Relationship(liyapeng,'出生于',xinjiang)\n",
    "nation3 = Relationship(liyapeng,'国籍',China)\n",
    "born4 = Relationship(zhaiying,'出生于',hunan)\n",
    "nation4 = Relationship(zhaiying,'国籍',China)\n",
    "born5 = Relationship(zhangyadong,'出生于',shanxi)\n",
    "nation5 = Relationship(zhangyadong,'国籍',China)\n",
    "born6 = Relationship(douying,'出生于',hunan)\n",
    "nation6 = Relationship(douying,'国籍',China)\n",
    "born7 = Relationship(douwei,'出生于',shanxi)\n",
    "nation7 = Relationship(douwei,'国籍',China)\n",
    "born8 = Relationship(doupeng,'出生于',beijing)\n",
    "nation8 = Relationship(doupeng,'国籍',China)\n",
    "born9 = Relationship(lidaqi,'出生于',beijing)\n",
    "nation9 = Relationship(lidaqi,'国籍',China)\n",
    "born10 = Relationship(pushu,'出生于',beijing)\n",
    "nation10 = Relationship(pushu,'国籍',China)\n",
    "born11 = Relationship(zhouxun,'出生于',hangzhou)\n",
    "nation11 = Relationship(zhouxun,'国籍',China)\n",
    "born12 = Relationship(xietingfeng,'出生于',xianggang)\n",
    "nation12 = Relationship(xietingfeng,'国籍',China)\n",
    "born13 = Relationship(zhangbozhi,'出生于',xianggang)\n",
    "nation13 = Relationship(zhangbozhi,'国籍',China)\n",
    "born14 = Relationship(doujingtong,'出生于',beijing)\n",
    "nation14 = Relationship(doujingtong,'国籍',China)\n",
    "born15 = Relationship(naying,'出生于',liaoning)\n",
    "nation15 = Relationship(naying,'国籍',China)\n",
    "born16 = Relationship(liangchaowei,'出生于',xianggang)\n",
    "nation16 = Relationship(liangchaowei,'国籍',China)\n",
    "born17 = Relationship(liujialing,'出生于',suzhou)\n",
    "nation17 = Relationship(liujialing,'国籍',China)\n",
    "born15,born17"
   ]
  },
  {
   "cell_type": "code",
   "execution_count": 20,
   "id": "7a2164fe",
   "metadata": {},
   "outputs": [],
   "source": [
    "# 存储到数据库中\n",
    "graph.create(born1)\n",
    "graph.create(nation1)\n",
    "graph.create(born2)\n",
    "graph.create(nation2)\n",
    "graph.create(born3)\n",
    "graph.create(nation3)\n",
    "graph.create(born4)\n",
    "graph.create(nation4)\n",
    "graph.create(born5)\n",
    "graph.create(nation5)\n",
    "graph.create(born6)\n",
    "graph.create(nation6)\n",
    "graph.create(born7)\n",
    "graph.create(nation7)\n",
    "graph.create(born8)\n",
    "graph.create(nation8)\n",
    "graph.create(born9)\n",
    "graph.create(nation9)\n",
    "graph.create(born10)\n",
    "graph.create(nation10)\n",
    "graph.create(born11)\n",
    "graph.create(nation11)\n",
    "graph.create(born12)\n",
    "graph.create(nation12)\n",
    "graph.create(born13)\n",
    "graph.create(nation13)\n",
    "graph.create(born14)\n",
    "graph.create(nation14)\n",
    "graph.create(born15)\n",
    "graph.create(nation15)\n",
    "graph.create(born16)\n",
    "graph.create(nation16)\n",
    "graph.create(born17)\n",
    "graph.create(nation17)"
   ]
  },
  {
   "cell_type": "markdown",
   "id": "22b1541f",
   "metadata": {},
   "source": [
    "## 创建事件节点并保存到数据库"
   ]
  },
  {
   "cell_type": "code",
   "execution_count": 21,
   "id": "7e35dbde",
   "metadata": {},
   "outputs": [],
   "source": [
    "event1 = Node(\"事件\",name='综艺《幻乐之城》',time=2022)\n",
    "event2 = Node(\"事件\",name='春晚节目《相约一九九八》',time=1998)\n",
    "event3 = Node(\"事件\",name='艳照门事件',time=2008)\n",
    "event4 = Node(\"事件\",name='窦唯与超能力》乐队',time=2006)\n",
    "event5 = Node(\"事件\",name='谢霆锋张柏芝离婚',time=2011)\n",
    "event6 = Node(\"事件\",name='王菲与李亚鹏离婚',time=2013)\n",
    "graph.create(event1)\n",
    "graph.create(event2)\n",
    "graph.create(event3)\n",
    "graph.create(event4)\n",
    "graph.create(event5)\n",
    "graph.create(event6)"
   ]
  },
  {
   "cell_type": "markdown",
   "id": "c34b2d12",
   "metadata": {},
   "source": [
    "## 创建事件节点与其他节点的关系：发生地点，涉及明星"
   ]
  },
  {
   "cell_type": "code",
   "execution_count": 22,
   "id": "cca324a2",
   "metadata": {},
   "outputs": [],
   "source": [
    "# 事件发生地点\n",
    "addr1 = Relationship(event1,'发生在',hunan)\n",
    "addr2 = Relationship(event2,'发生在',beijing)\n",
    "addr3 = Relationship(event3,'发生在',xianggang)\n",
    "addr4 = Relationship(event4,'发生在',China)\n",
    "addr5 = Relationship(event5,'发生在',xianggang)\n",
    "addr6 = Relationship(event6,'发生在',xianggang)\n",
    "graph.create(addr1)\n",
    "graph.create(addr2)\n",
    "graph.create(addr3)\n",
    "graph.create(addr4)\n",
    "graph.create(addr5)\n",
    "graph.create(addr6)"
   ]
  },
  {
   "cell_type": "code",
   "execution_count": 23,
   "id": "8cd94961",
   "metadata": {},
   "outputs": [],
   "source": [
    "# 事件涉及明星\n",
    "eve2star11 = Relationship(event1,'涉及',wangfei)\n",
    "eve2star12 = Relationship(event1,'涉及',doujingtong)\n",
    "eve2star13 = Relationship(event1,'涉及',zhouxun)\n",
    "graph.create(eve2star11)\n",
    "graph.create(eve2star12)\n",
    "graph.create(eve2star13)\n",
    "eve2star21 = Relationship(event2,'涉及',wangfei)\n",
    "eve2star22 = Relationship(event2,'涉及',naying)\n",
    "graph.create(eve2star21)\n",
    "graph.create(eve2star22)\n",
    "eve2star31 = Relationship(event3,'涉及',zhangbozhi)\n",
    "eve2star32 = Relationship(event3,'涉及',guanxi)\n",
    "eve2star33 = Relationship(event3,'涉及',xietingfeng)\n",
    "graph.create(eve2star31)\n",
    "graph.create(eve2star32)\n",
    "graph.create(eve2star33)\n",
    "eve2star41 = Relationship(event4,'涉及',douwei)\n",
    "eve2star42 = Relationship(event4,'涉及',doupeng)\n",
    "eve2star43 = Relationship(event4,'涉及',douying)\n",
    "eve2star44 = Relationship(event4,'涉及',zhangyadong)\n",
    "graph.create(eve2star41)\n",
    "graph.create(eve2star42)\n",
    "graph.create(eve2star43)\n",
    "graph.create(eve2star44)\n",
    "eve2star51 = Relationship(event5,'涉及',xietingfeng)\n",
    "eve2star52 = Relationship(event5,'涉及',zhangbozhi)\n",
    "graph.create(eve2star51)\n",
    "graph.create(eve2star52)\n",
    "eve2star61 = Relationship(event6,'涉及',wangfei)\n",
    "eve2star62 = Relationship(event6,'涉及',liyapeng)\n",
    "graph.create(eve2star61)\n",
    "graph.create(eve2star62)"
   ]
  },
  {
   "cell_type": "markdown",
   "id": "24076bb9",
   "metadata": {},
   "source": [
    "## 增删改查功能实现"
   ]
  },
  {
   "cell_type": "code",
   "execution_count": 24,
   "id": "41853d6b",
   "metadata": {},
   "outputs": [
    {
     "data": {
      "text/plain": [
       "[Node('明星', age=40, name='陈冠希', sex='男')]"
      ]
     },
     "execution_count": 24,
     "metadata": {},
     "output_type": "execute_result"
    }
   ],
   "source": [
    "from py2neo import NodeMatcher\n",
    "# 初始化一个 matcher 实例\n",
    "matcher = NodeMatcher(graph)\n",
    "# 用 match 方法查找 角色 中 name 为陈冠希的节点，返回一个 NodeMatch 对象\n",
    "result = matcher.match(\"明星\", name=\"陈冠希\")\n",
    "# first 方法返回查询结果的第一个\n",
    "result.first()\n",
    "# 通过 list 来把所有结果显示出来\n",
    "list(result)"
   ]
  },
  {
   "cell_type": "code",
   "execution_count": 25,
   "id": "2e16f39c",
   "metadata": {
    "scrolled": true
   },
   "outputs": [
    {
     "data": {
      "text/html": [
       "(No data)"
      ],
      "text/plain": [
       "(No data)"
      ]
     },
     "execution_count": 25,
     "metadata": {},
     "output_type": "execute_result"
    }
   ],
   "source": [
    "# 增\n",
    "# cypher 语句，对已存在的节点，创建节点和关系\n",
    "query = \"match (n:明星) where n.name = '窦唯' create (n)-[:偶像]->(:NKUER{name:'唐明昊',sex:'男'})\"\n",
    "# 执行 cypher 语句\n",
    "graph.run(query)"
   ]
  },
  {
   "cell_type": "code",
   "execution_count": 26,
   "id": "2bc778a5",
   "metadata": {},
   "outputs": [
    {
     "data": {
      "text/html": [
       "<table><tr><th>n</th></tr><tr><td style=\"text-align:left\">(_10:明星 {age: 40, name: &#039;\\u9648\\u51a0\\u5e0c&#039;, sex: &#039;\\u7537&#039;, tag: &#039;\\u5fae\\u4fe1\\u8f6c\\u8d26300\\u5757&#039;})</td></tr></table>"
      ],
      "text/plain": [
       " n                                                                                                       \n",
       "---------------------------------------------------------------------------------------------------------\n",
       " (_10:明星 {age: 40, name: '\\u9648\\u51a0\\u5e0c', sex: '\\u7537', tag: '\\u5fae\\u4fe1\\u8f6c\\u8d26300\\u5757'}) "
      ]
     },
     "execution_count": 26,
     "metadata": {},
     "output_type": "execute_result"
    }
   ],
   "source": [
    "# 增\n",
    "query = \"match (n:明星) where n.name='陈冠希' set n.tag='微信转账300块' return n\"\n",
    "graph.run(query)"
   ]
  },
  {
   "cell_type": "code",
   "execution_count": 27,
   "id": "8fffd336",
   "metadata": {},
   "outputs": [
    {
     "data": {
      "text/html": [
       "<table><tr><th>n</th></tr><tr><td style=\"text-align:left\">(_42:NKUER {name: &#039;\\u5510\\u660e\\u660a&#039;})</td></tr></table>"
      ],
      "text/plain": [
       " n                                        \n",
       "------------------------------------------\n",
       " (_42:NKUER {name: '\\u5510\\u660e\\u660a'}) "
      ]
     },
     "execution_count": 27,
     "metadata": {},
     "output_type": "execute_result"
    }
   ],
   "source": [
    "# 删\n",
    "# remove删除属性\n",
    "query = \"match (n:NKUER) where n.name='唐明昊' remove n.sex return n\"\n",
    "graph.run(query)"
   ]
  },
  {
   "cell_type": "code",
   "execution_count": 28,
   "id": "f125f19a",
   "metadata": {},
   "outputs": [
    {
     "data": {
      "text/html": [
       "(No data)"
      ],
      "text/plain": [
       "(No data)"
      ]
     },
     "execution_count": 28,
     "metadata": {},
     "output_type": "execute_result"
    }
   ],
   "source": [
    "# 删\n",
    "# delete删除节点及其关系\n",
    "query = \"match (n:NKUER)-[r]-() where n.name='唐明昊' delete n,r\"\n",
    "graph.run(query)"
   ]
  },
  {
   "cell_type": "code",
   "execution_count": 29,
   "id": "5098a466",
   "metadata": {},
   "outputs": [
    {
     "data": {
      "text/html": [
       "<table><tr><th>n</th></tr><tr><td style=\"text-align:left\">(_10:明星 {age: 40, name: &#039;\\u9648\\u51a0\\u5e0c&#039;, sex: &#039;\\u7537&#039;, tag: &#039;life is a fxxking movie&#039;})</td></tr></table>"
      ],
      "text/plain": [
       " n                                                                                             \n",
       "-----------------------------------------------------------------------------------------------\n",
       " (_10:明星 {age: 40, name: '\\u9648\\u51a0\\u5e0c', sex: '\\u7537', tag: 'life is a fxxking movie'}) "
      ]
     },
     "execution_count": 29,
     "metadata": {},
     "output_type": "execute_result"
    }
   ],
   "source": [
    "# 改\n",
    "query = \"match (n:明星) where n.name='陈冠希' set n.tag='life is a fxxking movie' return n\"\n",
    "graph.run(query)"
   ]
  },
  {
   "cell_type": "code",
   "execution_count": 30,
   "id": "86eac275",
   "metadata": {},
   "outputs": [
    {
     "name": "stdout",
     "output_type": "stream",
     "text": [
      "Node('明星', age=40, name='陈冠希', sex='男', tag='life is a fxxking movie')\n",
      "Node('明星', age=53, name='王菲', sex='女')\n",
      "Node('明星', age=52, name='李亚鹏', sex='男')\n",
      "Node('明星', age=52, name='翟颖', sex='女')\n",
      "Node('明星', age=42, name='张柏芝', sex='女')\n",
      "Node('明星', age=42, name='谢霆锋', sex='男')\n",
      "Node('明星', age=46, name='周迅', sex='女')\n",
      "Node('明星', age=55, name='张亚东', sex='男')\n",
      "Node('明星', age=53, name='李大齐', sex='男')\n",
      "Node('明星', age=53, name='朴树', sex='男')\n",
      "Node('明星', age=52, name='窦颖', sex='女')\n",
      "Node('明星', age=61, name='梁朝伟', sex='男')\n",
      "Node('明星', age=59, name='刘嘉玲', sex='女')\n",
      "Node('明星', age=26, name='窦靖童', sex='女')\n",
      "Node('明星', age=55, name='那英', sex='女')\n",
      "Node('地点', name='中国')\n",
      "Node('地点', name='加拿大')\n",
      "Node('地点', name='新疆')\n",
      "Node('地点', name='湖南')\n",
      "Node('地点', name='山西')\n",
      "Node('地点', name='北京')\n",
      "Node('地点', name='杭州')\n",
      "Node('地点', name='香港')\n",
      "Node('明星', age=54, name='窦唯', sex='男')\n",
      "Node('明星', age=51, name='窦鹏', sex='男')\n",
      "Node('地点', name='苏州')\n",
      "Node('事件', name='综艺《幻乐之城》', time=2022)\n",
      "Node('事件', name='春晚节目《相约一九九八》', time=1998)\n",
      "Node('事件', name='艳照门事件', time=2008)\n",
      "Node('事件', name='窦唯与超能力》乐队', time=2006)\n",
      "Node('事件', name='谢霆锋张柏芝离婚', time=2011)\n",
      "Node('事件', name='王菲与李亚鹏离婚', time=2013)\n",
      "Node('地点', name='辽宁')\n"
     ]
    }
   ],
   "source": [
    "# 查\n",
    "# cypher 语句，查询并返回所有的节点\n",
    "query = \"match (n) return n\"\n",
    "# 执行 cypher 语句，获得返回结果\n",
    "cursors = graph.run(query)\n",
    "# 通过遍历的方式取出所有结果\n",
    "for i in cursors:\n",
    "    print(i)"
   ]
  },
  {
   "cell_type": "code",
   "execution_count": 31,
   "id": "f125861f",
   "metadata": {},
   "outputs": [
    {
     "data": {
      "text/html": [
       "<table><tr><th>m</th></tr><tr><td style=\"text-align:left\">(周迅)-[:旧爱 {}]-&gt;(窦鹏)</td></tr><tr><td style=\"text-align:left\">(周迅)-[:旧爱 {}]-&gt;(李大齐)</td></tr><tr><td style=\"text-align:left\">(周迅)-[:旧爱 {}]-&gt;(朴树)</td></tr></table>"
      ],
      "text/plain": [
       " m                    \n",
       "----------------------\n",
       " (周迅)-[:旧爱 {}]->(窦鹏)  \n",
       " (周迅)-[:旧爱 {}]->(李大齐) \n",
       " (周迅)-[:旧爱 {}]->(朴树)  "
      ]
     },
     "execution_count": 31,
     "metadata": {},
     "output_type": "execute_result"
    }
   ],
   "source": [
    "# 查询直接关系\n",
    "query = \"MATCH m=(:明星 {name:\"周迅\"})-[*..1]-() RETURN m\"\n",
    "# 执行 cypher 语句\n",
    "graph.run(query)"
   ]
  },
  {
   "cell_type": "code",
   "execution_count": 33,
   "id": "838f4915",
   "metadata": {},
   "outputs": [
    {
     "data": {
      "text/html": [
       "<table><tr><th>m.name</th></tr><tr><td style=\"text-align:left\">梁朝伟</td></tr><tr><td style=\"text-align:left\">张柏芝</td></tr><tr><td style=\"text-align:left\">谢霆锋</td></tr></table>"
      ],
      "text/plain": [
       " m.name \n",
       "--------\n",
       " 梁朝伟    \n",
       " 张柏芝    \n",
       " 谢霆锋    "
      ]
     },
     "execution_count": 33,
     "metadata": {},
     "output_type": "execute_result"
    }
   ],
   "source": [
    "# 查询出生在香港的明星\n",
    "query = \"match (m:明星)-[出生于]->(n) where n.name='香港' return m.name\"\n",
    "graph.run(query)"
   ]
  },
  {
   "cell_type": "code",
   "execution_count": null,
   "id": "b7571e3a",
   "metadata": {},
   "outputs": [],
   "source": []
  }
 ],
 "metadata": {
  "kernelspec": {
   "display_name": "Python 3 (ipykernel)",
   "language": "python",
   "name": "python3"
  },
  "language_info": {
   "codemirror_mode": {
    "name": "ipython",
    "version": 3
   },
   "file_extension": ".py",
   "mimetype": "text/x-python",
   "name": "python",
   "nbconvert_exporter": "python",
   "pygments_lexer": "ipython3",
   "version": "3.10.9"
  }
 },
 "nbformat": 4,
 "nbformat_minor": 5
}
