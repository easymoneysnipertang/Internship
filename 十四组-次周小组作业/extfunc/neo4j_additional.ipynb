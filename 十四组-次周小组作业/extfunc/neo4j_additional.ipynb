{
 "cells": [
  {
   "cell_type": "markdown",
   "id": "b0a75c3b",
   "metadata": {},
   "source": [
    "# 复杂关系查询"
   ]
  },
  {
   "cell_type": "code",
   "execution_count": 1,
   "id": "9a3dd716",
   "metadata": {},
   "outputs": [],
   "source": [
    "# 连接neo4j\n",
    "from py2neo import Graph\n",
    "graph = Graph(\"bolt: // localhost:7687\", auth=(\"neo4j\", \"12345678\"))\n",
    "from py2neo import Node\n",
    "from py2neo import Relationship\n",
    "from py2neo import NodeMatcher"
   ]
  },
  {
   "cell_type": "markdown",
   "id": "4fbe513e",
   "metadata": {},
   "source": [
    "## 查询两个明星间的最短路径"
   ]
  },
  {
   "cell_type": "code",
   "execution_count": 7,
   "id": "cd9bfea4",
   "metadata": {},
   "outputs": [
    {
     "data": {
      "text/html": [
       "<table><tr><th>p</th></tr><tr><td style=\"text-align:left\">(周迅)&lt;-[:涉及 {}]-(综艺《幻乐之城》)-[:涉及 {}]-&gt;(王菲)</td></tr></table>"
      ],
      "text/plain": [
       " p                                        \n",
       "------------------------------------------\n",
       " (周迅)<-[:涉及 {}]-(综艺《幻乐之城》)-[:涉及 {}]->(王菲) "
      ]
     },
     "execution_count": 7,
     "metadata": {},
     "output_type": "execute_result"
    }
   ],
   "source": [
    "# 查询最短路径\n",
    "query = \"MATCH p = shortestpath((s1:明星 {name:'周迅'})-[*..6]-(s2:明星 {name:'王菲'})) RETURN p\"\n",
    "# 执行 cypher 语句\n",
    "graph.run(query)"
   ]
  },
  {
   "cell_type": "markdown",
   "id": "6072d09c",
   "metadata": {},
   "source": [
    "## 查找与周迅有共同好友的明星"
   ]
  },
  {
   "cell_type": "code",
   "execution_count": 14,
   "id": "d6b4b70e",
   "metadata": {},
   "outputs": [
    {
     "data": {
      "text/html": [
       "<table><tr><th>明星</th></tr><tr><td style=\"text-align:left\">王菲</td></tr></table>"
      ],
      "text/plain": [
       " 明星 \n",
       "----\n",
       " 王菲 "
      ]
     },
     "execution_count": 14,
     "metadata": {},
     "output_type": "execute_result"
    }
   ],
   "source": [
    "query = \"MATCH (s1:明星 {name: '周迅'})-[:好友]-(f:明星)-[:好友]-(s2:明星) WHERE s2 <> s1 RETURN DISTINCT s2.name as 明星\"\n",
    "graph.run(query)"
   ]
  },
  {
   "cell_type": "markdown",
   "id": "aed18d3d",
   "metadata": {},
   "source": [
    "## 查找发生在香港的事件以及涉及到的明星"
   ]
  },
  {
   "cell_type": "code",
   "execution_count": 25,
   "id": "d23506b9",
   "metadata": {},
   "outputs": [
    {
     "name": "stdout",
     "output_type": "stream",
     "text": [
      "'王菲与李亚鹏离婚'\t'李亚鹏'\n",
      "'王菲与李亚鹏离婚'\t'王菲'\n",
      "'谢霆锋张柏芝离婚'\t'张柏芝'\n",
      "'谢霆锋张柏芝离婚'\t'谢霆锋'\n",
      "'艳照门事件'\t'谢霆锋'\n",
      "'艳照门事件'\t'陈冠希'\n",
      "'艳照门事件'\t'张柏芝'\n"
     ]
    }
   ],
   "source": [
    "query = \"MATCH (p:地点 {name: '香港'})<-[r:发生在]-(e:事件)-[r2:涉及]-(s:明星) RETURN DISTINCT e.name as 事件,s.name as 明星\"\n",
    "result = graph.run(query)\n",
    "for i in result :\n",
    "    print(i)"
   ]
  },
  {
   "cell_type": "markdown",
   "id": "51576343",
   "metadata": {},
   "source": [
    "## 查找与王菲有关系的事件及涉及到的其他明星："
   ]
  },
  {
   "cell_type": "code",
   "execution_count": 26,
   "id": "f96abb21",
   "metadata": {},
   "outputs": [
    {
     "name": "stdout",
     "output_type": "stream",
     "text": [
      "'王菲与李亚鹏离婚'\t'李亚鹏'\n",
      "'春晚节目《相约一九九八》'\t'那英'\n",
      "'综艺《幻乐之城》'\t'周迅'\n",
      "'综艺《幻乐之城》'\t'窦靖童'\n"
     ]
    }
   ],
   "source": [
    "query = \"MATCH (s:明星 {name: '王菲'})-[:涉及]-(e:事件)-[:涉及]-(otherStar:明星) RETURN e.name as 事件,otherStar.name as 涉及到的明星\"\n",
    "result = graph.run(query)\n",
    "for i in result :\n",
    "    print(i)"
   ]
  },
  {
   "cell_type": "markdown",
   "id": "475b94e6",
   "metadata": {},
   "source": [
    "## 匹配所有与陈冠希和张柏芝有关的节点，同时过滤掉谢霆锋"
   ]
  },
  {
   "cell_type": "code",
   "execution_count": 27,
   "id": "25b00f50",
   "metadata": {},
   "outputs": [
    {
     "name": "stdout",
     "output_type": "stream",
     "text": [
      "'艳照门事件'\n",
      "'加拿大'\n",
      "'张柏芝'\n",
      "'谢霆锋张柏芝离婚'\n",
      "'中国'\n",
      "'香港'\n",
      "'陈冠希'\n",
      "'那英'\n"
     ]
    }
   ],
   "source": [
    "query = \"match p=(n)--(m) where n.name in ['陈冠希','张柏芝'] and not m.name in ['谢霆锋'] return distinct m.name\"\n",
    "result = graph.run(query)\n",
    "for i in result :\n",
    "    print(i)"
   ]
  },
  {
   "cell_type": "markdown",
   "id": "b5a10249",
   "metadata": {},
   "source": [
    "## 查询周迅的旧爱们"
   ]
  },
  {
   "cell_type": "code",
   "execution_count": 28,
   "id": "4b161dc8",
   "metadata": {},
   "outputs": [
    {
     "name": "stdout",
     "output_type": "stream",
     "text": [
      "'窦鹏'\n",
      "'李大齐'\n",
      "'朴树'\n",
      "'李亚鹏'\n"
     ]
    }
   ],
   "source": [
    "query = \"match p=(n)-[r:旧爱]->(m) where n.name ='周迅' return m.name\"\n",
    "result = graph.run(query)\n",
    "for i in result :\n",
    "    print(i)"
   ]
  },
  {
   "cell_type": "markdown",
   "id": "2d83ef44",
   "metadata": {},
   "source": [
    "## 查询陈冠希和张亚东之间有无关系"
   ]
  },
  {
   "cell_type": "code",
   "execution_count": 31,
   "id": "ad8f28fd",
   "metadata": {},
   "outputs": [
    {
     "name": "stdout",
     "output_type": "stream",
     "text": [
      "Path(Node('明星', age=40, name='陈冠希', sex='男', tag='life is a fxxking movie'), 旧爱(Node('明星', age=40, name='陈冠希', sex='男', tag='life is a fxxking movie'), Node('明星', age=42, name='张柏芝', sex='女')), 离异(Node('明星', age=42, name='张柏芝', sex='女'), Node('明星', age=42, name='谢霆锋', sex='男')), 旧友(Node('明星', age=42, name='谢霆锋', sex='男'), Node('明星', age=40, name='陈冠希', sex='男', tag='life is a fxxking movie')), 旧友(Node('明星', age=40, name='陈冠希', sex='男', tag='life is a fxxking movie'), Node('明星', age=42, name='谢霆锋', sex='男')), 绯闻(Node('明星', age=42, name='谢霆锋', sex='男'), Node('明星', age=46, name='周迅', sex='女')), 旧爱(Node('明星', age=46, name='周迅', sex='女'), Node('明星', age=52, name='李亚鹏', sex='男')), 旧爱(Node('明星', age=52, name='李亚鹏', sex='男'), Node('明星', age=52, name='翟颖', sex='女')), 旧爱(Node('明星', age=52, name='翟颖', sex='女'), Node('明星', age=55, name='张亚东', sex='男')))\n",
      "Path(Node('明星', age=40, name='陈冠希', sex='男', tag='life is a fxxking movie'), 旧爱(Node('明星', age=40, name='陈冠希', sex='男', tag='life is a fxxking movie'), Node('明星', age=42, name='张柏芝', sex='女')), 离异(Node('明星', age=42, name='张柏芝', sex='女'), Node('明星', age=42, name='谢霆锋', sex='男')), 旧友(Node('明星', age=42, name='谢霆锋', sex='男'), Node('明星', age=40, name='陈冠希', sex='男', tag='life is a fxxking movie')), 旧友(Node('明星', age=40, name='陈冠希', sex='男', tag='life is a fxxking movie'), Node('明星', age=42, name='谢霆锋', sex='男')), 旧爱(Node('明星', age=42, name='谢霆锋', sex='男'), Node('明星', age=53, name='王菲', sex='女')), 离异(Node('明星', age=53, name='王菲', sex='女'), Node('明星', age=52, name='李亚鹏', sex='男')), 旧爱(Node('明星', age=52, name='李亚鹏', sex='男'), Node('明星', age=52, name='翟颖', sex='女')), 旧爱(Node('明星', age=52, name='翟颖', sex='女'), Node('明星', age=55, name='张亚东', sex='男')))\n",
      "Path(Node('明星', age=40, name='陈冠希', sex='男', tag='life is a fxxking movie'), 旧爱(Node('明星', age=40, name='陈冠希', sex='男', tag='life is a fxxking movie'), Node('明星', age=42, name='张柏芝', sex='女')), 离异(Node('明星', age=42, name='张柏芝', sex='女'), Node('明星', age=42, name='谢霆锋', sex='男')), 旧友(Node('明星', age=42, name='谢霆锋', sex='男'), Node('明星', age=40, name='陈冠希', sex='男', tag='life is a fxxking movie')), 旧友(Node('明星', age=40, name='陈冠希', sex='男', tag='life is a fxxking movie'), Node('明星', age=42, name='谢霆锋', sex='男')), 旧爱(Node('明星', age=42, name='谢霆锋', sex='男'), Node('明星', age=53, name='王菲', sex='女')), 离异(Node('明星', age=53, name='王菲', sex='女'), Node('明星', age=54, name='窦唯', sex='男')), 兄妹(Node('明星', age=54, name='窦唯', sex='男'), Node('明星', age=52, name='窦颖', sex='女')), 离异(Node('明星', age=52, name='窦颖', sex='女'), Node('明星', age=55, name='张亚东', sex='男')))\n",
      "Path(Node('明星', age=40, name='陈冠希', sex='男', tag='life is a fxxking movie'), 旧爱(Node('明星', age=40, name='陈冠希', sex='男', tag='life is a fxxking movie'), Node('明星', age=42, name='张柏芝', sex='女')), 离异(Node('明星', age=42, name='张柏芝', sex='女'), Node('明星', age=42, name='谢霆锋', sex='男')), 绯闻(Node('明星', age=42, name='谢霆锋', sex='男'), Node('明星', age=46, name='周迅', sex='女')), 旧爱(Node('明星', age=46, name='周迅', sex='女'), Node('明星', age=51, name='窦鹏', sex='男')), 旧爱(Node('明星', age=51, name='窦鹏', sex='男'), Node('明星', age=46, name='周迅', sex='女')), 旧爱(Node('明星', age=46, name='周迅', sex='女'), Node('明星', age=52, name='李亚鹏', sex='男')), 旧爱(Node('明星', age=52, name='李亚鹏', sex='男'), Node('明星', age=52, name='翟颖', sex='女')), 旧爱(Node('明星', age=52, name='翟颖', sex='女'), Node('明星', age=55, name='张亚东', sex='男')))\n",
      "Path(Node('明星', age=40, name='陈冠希', sex='男', tag='life is a fxxking movie'), 旧爱(Node('明星', age=40, name='陈冠希', sex='男', tag='life is a fxxking movie'), Node('明星', age=42, name='张柏芝', sex='女')), 离异(Node('明星', age=42, name='张柏芝', sex='女'), Node('明星', age=42, name='谢霆锋', sex='男')), 绯闻(Node('明星', age=42, name='谢霆锋', sex='男'), Node('明星', age=46, name='周迅', sex='女')), 旧爱(Node('明星', age=46, name='周迅', sex='女'), Node('明星', age=51, name='窦鹏', sex='男')), 堂兄弟(Node('明星', age=51, name='窦鹏', sex='男'), Node('明星', age=54, name='窦唯', sex='男')), 兄妹(Node('明星', age=54, name='窦唯', sex='男'), Node('明星', age=52, name='窦颖', sex='女')), 离异(Node('明星', age=52, name='窦颖', sex='女'), Node('明星', age=55, name='张亚东', sex='男')))\n",
      "Path(Node('明星', age=40, name='陈冠希', sex='男', tag='life is a fxxking movie'), 旧爱(Node('明星', age=40, name='陈冠希', sex='男', tag='life is a fxxking movie'), Node('明星', age=42, name='张柏芝', sex='女')), 离异(Node('明星', age=42, name='张柏芝', sex='女'), Node('明星', age=42, name='谢霆锋', sex='男')), 绯闻(Node('明星', age=42, name='谢霆锋', sex='男'), Node('明星', age=46, name='周迅', sex='女')), 旧爱(Node('明星', age=46, name='周迅', sex='女'), Node('明星', age=53, name='李大齐', sex='男')), 旧爱(Node('明星', age=53, name='李大齐', sex='男'), Node('明星', age=46, name='周迅', sex='女')), 旧爱(Node('明星', age=46, name='周迅', sex='女'), Node('明星', age=52, name='李亚鹏', sex='男')), 旧爱(Node('明星', age=52, name='李亚鹏', sex='男'), Node('明星', age=52, name='翟颖', sex='女')), 旧爱(Node('明星', age=52, name='翟颖', sex='女'), Node('明星', age=55, name='张亚东', sex='男')))\n",
      "Path(Node('明星', age=40, name='陈冠希', sex='男', tag='life is a fxxking movie'), 旧爱(Node('明星', age=40, name='陈冠希', sex='男', tag='life is a fxxking movie'), Node('明星', age=42, name='张柏芝', sex='女')), 离异(Node('明星', age=42, name='张柏芝', sex='女'), Node('明星', age=42, name='谢霆锋', sex='男')), 绯闻(Node('明星', age=42, name='谢霆锋', sex='男'), Node('明星', age=46, name='周迅', sex='女')), 旧爱(Node('明星', age=46, name='周迅', sex='女'), Node('明星', age=53, name='朴树', sex='男')), 旧爱(Node('明星', age=53, name='朴树', sex='男'), Node('明星', age=46, name='周迅', sex='女')), 旧爱(Node('明星', age=46, name='周迅', sex='女'), Node('明星', age=52, name='李亚鹏', sex='男')), 旧爱(Node('明星', age=52, name='李亚鹏', sex='男'), Node('明星', age=52, name='翟颖', sex='女')), 旧爱(Node('明星', age=52, name='翟颖', sex='女'), Node('明星', age=55, name='张亚东', sex='男')))\n",
      "Path(Node('明星', age=40, name='陈冠希', sex='男', tag='life is a fxxking movie'), 旧爱(Node('明星', age=40, name='陈冠希', sex='男', tag='life is a fxxking movie'), Node('明星', age=42, name='张柏芝', sex='女')), 离异(Node('明星', age=42, name='张柏芝', sex='女'), Node('明星', age=42, name='谢霆锋', sex='男')), 绯闻(Node('明星', age=42, name='谢霆锋', sex='男'), Node('明星', age=46, name='周迅', sex='女')), 旧爱(Node('明星', age=46, name='周迅', sex='女'), Node('明星', age=52, name='李亚鹏', sex='男')), 旧爱(Node('明星', age=52, name='李亚鹏', sex='男'), Node('明星', age=52, name='翟颖', sex='女')), 旧爱(Node('明星', age=52, name='翟颖', sex='女'), Node('明星', age=55, name='张亚东', sex='男')))\n",
      "Path(Node('明星', age=40, name='陈冠希', sex='男', tag='life is a fxxking movie'), 旧爱(Node('明星', age=40, name='陈冠希', sex='男', tag='life is a fxxking movie'), Node('明星', age=42, name='张柏芝', sex='女')), 离异(Node('明星', age=42, name='张柏芝', sex='女'), Node('明星', age=42, name='谢霆锋', sex='男')), 绯闻(Node('明星', age=42, name='谢霆锋', sex='男'), Node('明星', age=46, name='周迅', sex='女')), 旧爱(Node('明星', age=46, name='周迅', sex='女'), Node('明星', age=52, name='李亚鹏', sex='男')), 旧爱(Node('明星', age=52, name='李亚鹏', sex='男'), Node('明星', age=52, name='翟颖', sex='女')), 旧爱(Node('明星', age=52, name='翟颖', sex='女'), Node('明星', age=55, name='张亚东', sex='男')), 离异(Node('明星', age=55, name='张亚东', sex='男'), Node('明星', age=52, name='窦颖', sex='女')), 离异(Node('明星', age=52, name='窦颖', sex='女'), Node('明星', age=55, name='张亚东', sex='男')))\n",
      "Path(Node('明星', age=40, name='陈冠希', sex='男', tag='life is a fxxking movie'), 旧爱(Node('明星', age=40, name='陈冠希', sex='男', tag='life is a fxxking movie'), Node('明星', age=42, name='张柏芝', sex='女')), 离异(Node('明星', age=42, name='张柏芝', sex='女'), Node('明星', age=42, name='谢霆锋', sex='男')), 绯闻(Node('明星', age=42, name='谢霆锋', sex='男'), Node('明星', age=46, name='周迅', sex='女')), 旧爱(Node('明星', age=46, name='周迅', sex='女'), Node('明星', age=52, name='李亚鹏', sex='男')), 离异(Node('明星', age=52, name='李亚鹏', sex='男'), Node('明星', age=53, name='王菲', sex='女')), 离异(Node('明星', age=53, name='王菲', sex='女'), Node('明星', age=52, name='李亚鹏', sex='男')), 旧爱(Node('明星', age=52, name='李亚鹏', sex='男'), Node('明星', age=52, name='翟颖', sex='女')), 旧爱(Node('明星', age=52, name='翟颖', sex='女'), Node('明星', age=55, name='张亚东', sex='男')))\n",
      "Path(Node('明星', age=40, name='陈冠希', sex='男', tag='life is a fxxking movie'), 旧爱(Node('明星', age=40, name='陈冠希', sex='男', tag='life is a fxxking movie'), Node('明星', age=42, name='张柏芝', sex='女')), 离异(Node('明星', age=42, name='张柏芝', sex='女'), Node('明星', age=42, name='谢霆锋', sex='男')), 绯闻(Node('明星', age=42, name='谢霆锋', sex='男'), Node('明星', age=46, name='周迅', sex='女')), 旧爱(Node('明星', age=46, name='周迅', sex='女'), Node('明星', age=52, name='李亚鹏', sex='男')), 离异(Node('明星', age=52, name='李亚鹏', sex='男'), Node('明星', age=53, name='王菲', sex='女')), 离异(Node('明星', age=53, name='王菲', sex='女'), Node('明星', age=54, name='窦唯', sex='男')), 兄妹(Node('明星', age=54, name='窦唯', sex='男'), Node('明星', age=52, name='窦颖', sex='女')), 离异(Node('明星', age=52, name='窦颖', sex='女'), Node('明星', age=55, name='张亚东', sex='男')))\n",
      "Path(Node('明星', age=40, name='陈冠希', sex='男', tag='life is a fxxking movie'), 旧爱(Node('明星', age=40, name='陈冠希', sex='男', tag='life is a fxxking movie'), Node('明星', age=42, name='张柏芝', sex='女')), 离异(Node('明星', age=42, name='张柏芝', sex='女'), Node('明星', age=42, name='谢霆锋', sex='男')), 绯闻(Node('明星', age=42, name='谢霆锋', sex='男'), Node('明星', age=46, name='周迅', sex='女')), 绯闻(Node('明星', age=46, name='周迅', sex='女'), Node('明星', age=61, name='梁朝伟', sex='男')), 绯闻(Node('明星', age=61, name='梁朝伟', sex='男'), Node('明星', age=46, name='周迅', sex='女')), 旧爱(Node('明星', age=46, name='周迅', sex='女'), Node('明星', age=52, name='李亚鹏', sex='男')), 旧爱(Node('明星', age=52, name='李亚鹏', sex='男'), Node('明星', age=52, name='翟颖', sex='女')), 旧爱(Node('明星', age=52, name='翟颖', sex='女'), Node('明星', age=55, name='张亚东', sex='男')))\n",
      "Path(Node('明星', age=40, name='陈冠希', sex='男', tag='life is a fxxking movie'), 旧爱(Node('明星', age=40, name='陈冠希', sex='男', tag='life is a fxxking movie'), Node('明星', age=42, name='张柏芝', sex='女')), 离异(Node('明星', age=42, name='张柏芝', sex='女'), Node('明星', age=42, name='谢霆锋', sex='男')), 绯闻(Node('明星', age=42, name='谢霆锋', sex='男'), Node('明星', age=46, name='周迅', sex='女')), 绯闻(Node('明星', age=46, name='周迅', sex='女'), Node('明星', age=42, name='谢霆锋', sex='男')), 旧爱(Node('明星', age=42, name='谢霆锋', sex='男'), Node('明星', age=53, name='王菲', sex='女')), 离异(Node('明星', age=53, name='王菲', sex='女'), Node('明星', age=52, name='李亚鹏', sex='男')), 旧爱(Node('明星', age=52, name='李亚鹏', sex='男'), Node('明星', age=52, name='翟颖', sex='女')), 旧爱(Node('明星', age=52, name='翟颖', sex='女'), Node('明星', age=55, name='张亚东', sex='男')))\n",
      "Path(Node('明星', age=40, name='陈冠希', sex='男', tag='life is a fxxking movie'), 旧爱(Node('明星', age=40, name='陈冠希', sex='男', tag='life is a fxxking movie'), Node('明星', age=42, name='张柏芝', sex='女')), 离异(Node('明星', age=42, name='张柏芝', sex='女'), Node('明星', age=42, name='谢霆锋', sex='男')), 绯闻(Node('明星', age=42, name='谢霆锋', sex='男'), Node('明星', age=46, name='周迅', sex='女')), 绯闻(Node('明星', age=46, name='周迅', sex='女'), Node('明星', age=42, name='谢霆锋', sex='男')), 旧爱(Node('明星', age=42, name='谢霆锋', sex='男'), Node('明星', age=53, name='王菲', sex='女')), 离异(Node('明星', age=53, name='王菲', sex='女'), Node('明星', age=54, name='窦唯', sex='男')), 兄妹(Node('明星', age=54, name='窦唯', sex='男'), Node('明星', age=52, name='窦颖', sex='女')), 离异(Node('明星', age=52, name='窦颖', sex='女'), Node('明星', age=55, name='张亚东', sex='男')))\n"
     ]
    },
    {
     "name": "stdout",
     "output_type": "stream",
     "text": [
      "Path(Node('明星', age=40, name='陈冠希', sex='男', tag='life is a fxxking movie'), 旧爱(Node('明星', age=40, name='陈冠希', sex='男', tag='life is a fxxking movie'), Node('明星', age=42, name='张柏芝', sex='女')), 离异(Node('明星', age=42, name='张柏芝', sex='女'), Node('明星', age=42, name='谢霆锋', sex='男')), 绯闻(Node('明星', age=42, name='谢霆锋', sex='男'), Node('明星', age=46, name='周迅', sex='女')), 好友(Node('明星', age=46, name='周迅', sex='女'), Node('明星', age=55, name='那英', sex='女')), 好友(Node('明星', age=55, name='那英', sex='女'), Node('明星', age=46, name='周迅', sex='女')), 旧爱(Node('明星', age=46, name='周迅', sex='女'), Node('明星', age=52, name='李亚鹏', sex='男')), 旧爱(Node('明星', age=52, name='李亚鹏', sex='男'), Node('明星', age=52, name='翟颖', sex='女')), 旧爱(Node('明星', age=52, name='翟颖', sex='女'), Node('明星', age=55, name='张亚东', sex='男')))\n",
      "Path(Node('明星', age=40, name='陈冠希', sex='男', tag='life is a fxxking movie'), 旧爱(Node('明星', age=40, name='陈冠希', sex='男', tag='life is a fxxking movie'), Node('明星', age=42, name='张柏芝', sex='女')), 离异(Node('明星', age=42, name='张柏芝', sex='女'), Node('明星', age=42, name='谢霆锋', sex='男')), 绯闻(Node('明星', age=42, name='谢霆锋', sex='男'), Node('明星', age=46, name='周迅', sex='女')), 好友(Node('明星', age=46, name='周迅', sex='女'), Node('明星', age=55, name='那英', sex='女')), 好友(Node('明星', age=55, name='那英', sex='女'), Node('明星', age=53, name='王菲', sex='女')), 离异(Node('明星', age=53, name='王菲', sex='女'), Node('明星', age=52, name='李亚鹏', sex='男')), 旧爱(Node('明星', age=52, name='李亚鹏', sex='男'), Node('明星', age=52, name='翟颖', sex='女')), 旧爱(Node('明星', age=52, name='翟颖', sex='女'), Node('明星', age=55, name='张亚东', sex='男')))\n",
      "Path(Node('明星', age=40, name='陈冠希', sex='男', tag='life is a fxxking movie'), 旧爱(Node('明星', age=40, name='陈冠希', sex='男', tag='life is a fxxking movie'), Node('明星', age=42, name='张柏芝', sex='女')), 离异(Node('明星', age=42, name='张柏芝', sex='女'), Node('明星', age=42, name='谢霆锋', sex='男')), 绯闻(Node('明星', age=42, name='谢霆锋', sex='男'), Node('明星', age=46, name='周迅', sex='女')), 好友(Node('明星', age=46, name='周迅', sex='女'), Node('明星', age=55, name='那英', sex='女')), 好友(Node('明星', age=55, name='那英', sex='女'), Node('明星', age=53, name='王菲', sex='女')), 离异(Node('明星', age=53, name='王菲', sex='女'), Node('明星', age=54, name='窦唯', sex='男')), 兄妹(Node('明星', age=54, name='窦唯', sex='男'), Node('明星', age=52, name='窦颖', sex='女')), 离异(Node('明星', age=52, name='窦颖', sex='女'), Node('明星', age=55, name='张亚东', sex='男')))\n",
      "Path(Node('明星', age=40, name='陈冠希', sex='男', tag='life is a fxxking movie'), 旧爱(Node('明星', age=40, name='陈冠希', sex='男', tag='life is a fxxking movie'), Node('明星', age=42, name='张柏芝', sex='女')), 离异(Node('明星', age=42, name='张柏芝', sex='女'), Node('明星', age=42, name='谢霆锋', sex='男')), 旧爱(Node('明星', age=42, name='谢霆锋', sex='男'), Node('明星', age=53, name='王菲', sex='女')), 离异(Node('明星', age=53, name='王菲', sex='女'), Node('明星', age=52, name='李亚鹏', sex='男')), 旧爱(Node('明星', age=52, name='李亚鹏', sex='男'), Node('明星', age=52, name='翟颖', sex='女')), 旧爱(Node('明星', age=52, name='翟颖', sex='女'), Node('明星', age=55, name='张亚东', sex='男')))\n",
      "Path(Node('明星', age=40, name='陈冠希', sex='男', tag='life is a fxxking movie'), 旧爱(Node('明星', age=40, name='陈冠希', sex='男', tag='life is a fxxking movie'), Node('明星', age=42, name='张柏芝', sex='女')), 离异(Node('明星', age=42, name='张柏芝', sex='女'), Node('明星', age=42, name='谢霆锋', sex='男')), 旧爱(Node('明星', age=42, name='谢霆锋', sex='男'), Node('明星', age=53, name='王菲', sex='女')), 离异(Node('明星', age=53, name='王菲', sex='女'), Node('明星', age=52, name='李亚鹏', sex='男')), 旧爱(Node('明星', age=52, name='李亚鹏', sex='男'), Node('明星', age=52, name='翟颖', sex='女')), 旧爱(Node('明星', age=52, name='翟颖', sex='女'), Node('明星', age=55, name='张亚东', sex='男')), 离异(Node('明星', age=55, name='张亚东', sex='男'), Node('明星', age=52, name='窦颖', sex='女')), 离异(Node('明星', age=52, name='窦颖', sex='女'), Node('明星', age=55, name='张亚东', sex='男')))\n",
      "Path(Node('明星', age=40, name='陈冠希', sex='男', tag='life is a fxxking movie'), 旧爱(Node('明星', age=40, name='陈冠希', sex='男', tag='life is a fxxking movie'), Node('明星', age=42, name='张柏芝', sex='女')), 离异(Node('明星', age=42, name='张柏芝', sex='女'), Node('明星', age=42, name='谢霆锋', sex='男')), 旧爱(Node('明星', age=42, name='谢霆锋', sex='男'), Node('明星', age=53, name='王菲', sex='女')), 离异(Node('明星', age=53, name='王菲', sex='女'), Node('明星', age=52, name='李亚鹏', sex='男')), 旧爱(Node('明星', age=52, name='李亚鹏', sex='男'), Node('明星', age=46, name='周迅', sex='女')), 旧爱(Node('明星', age=46, name='周迅', sex='女'), Node('明星', age=52, name='李亚鹏', sex='男')), 旧爱(Node('明星', age=52, name='李亚鹏', sex='男'), Node('明星', age=52, name='翟颖', sex='女')), 旧爱(Node('明星', age=52, name='翟颖', sex='女'), Node('明星', age=55, name='张亚东', sex='男')))\n",
      "Path(Node('明星', age=40, name='陈冠希', sex='男', tag='life is a fxxking movie'), 旧爱(Node('明星', age=40, name='陈冠希', sex='男', tag='life is a fxxking movie'), Node('明星', age=42, name='张柏芝', sex='女')), 离异(Node('明星', age=42, name='张柏芝', sex='女'), Node('明星', age=42, name='谢霆锋', sex='男')), 旧爱(Node('明星', age=42, name='谢霆锋', sex='男'), Node('明星', age=53, name='王菲', sex='女')), 离异(Node('明星', age=53, name='王菲', sex='女'), Node('明星', age=52, name='李亚鹏', sex='男')), 离异(Node('明星', age=52, name='李亚鹏', sex='男'), Node('明星', age=53, name='王菲', sex='女')), 离异(Node('明星', age=53, name='王菲', sex='女'), Node('明星', age=54, name='窦唯', sex='男')), 兄妹(Node('明星', age=54, name='窦唯', sex='男'), Node('明星', age=52, name='窦颖', sex='女')), 离异(Node('明星', age=52, name='窦颖', sex='女'), Node('明星', age=55, name='张亚东', sex='男')))\n",
      "Path(Node('明星', age=40, name='陈冠希', sex='男', tag='life is a fxxking movie'), 旧爱(Node('明星', age=40, name='陈冠希', sex='男', tag='life is a fxxking movie'), Node('明星', age=42, name='张柏芝', sex='女')), 离异(Node('明星', age=42, name='张柏芝', sex='女'), Node('明星', age=42, name='谢霆锋', sex='男')), 旧爱(Node('明星', age=42, name='谢霆锋', sex='男'), Node('明星', age=53, name='王菲', sex='女')), 旧爱(Node('明星', age=53, name='王菲', sex='女'), Node('明星', age=42, name='谢霆锋', sex='男')), 绯闻(Node('明星', age=42, name='谢霆锋', sex='男'), Node('明星', age=46, name='周迅', sex='女')), 旧爱(Node('明星', age=46, name='周迅', sex='女'), Node('明星', age=52, name='李亚鹏', sex='男')), 旧爱(Node('明星', age=52, name='李亚鹏', sex='男'), Node('明星', age=52, name='翟颖', sex='女')), 旧爱(Node('明星', age=52, name='翟颖', sex='女'), Node('明星', age=55, name='张亚东', sex='男')))\n",
      "Path(Node('明星', age=40, name='陈冠希', sex='男', tag='life is a fxxking movie'), 旧爱(Node('明星', age=40, name='陈冠希', sex='男', tag='life is a fxxking movie'), Node('明星', age=42, name='张柏芝', sex='女')), 离异(Node('明星', age=42, name='张柏芝', sex='女'), Node('明星', age=42, name='谢霆锋', sex='男')), 旧爱(Node('明星', age=42, name='谢霆锋', sex='男'), Node('明星', age=53, name='王菲', sex='女')), 离异(Node('明星', age=53, name='王菲', sex='女'), Node('明星', age=54, name='窦唯', sex='男')), 堂兄弟(Node('明星', age=54, name='窦唯', sex='男'), Node('明星', age=51, name='窦鹏', sex='男')), 堂兄弟(Node('明星', age=51, name='窦鹏', sex='男'), Node('明星', age=54, name='窦唯', sex='男')), 兄妹(Node('明星', age=54, name='窦唯', sex='男'), Node('明星', age=52, name='窦颖', sex='女')), 离异(Node('明星', age=52, name='窦颖', sex='女'), Node('明星', age=55, name='张亚东', sex='男')))\n",
      "Path(Node('明星', age=40, name='陈冠希', sex='男', tag='life is a fxxking movie'), 旧爱(Node('明星', age=40, name='陈冠希', sex='男', tag='life is a fxxking movie'), Node('明星', age=42, name='张柏芝', sex='女')), 离异(Node('明星', age=42, name='张柏芝', sex='女'), Node('明星', age=42, name='谢霆锋', sex='男')), 旧爱(Node('明星', age=42, name='谢霆锋', sex='男'), Node('明星', age=53, name='王菲', sex='女')), 离异(Node('明星', age=53, name='王菲', sex='女'), Node('明星', age=54, name='窦唯', sex='男')), 兄妹(Node('明星', age=54, name='窦唯', sex='男'), Node('明星', age=52, name='窦颖', sex='女')), 离异(Node('明星', age=52, name='窦颖', sex='女'), Node('明星', age=55, name='张亚东', sex='男')))\n",
      "Path(Node('明星', age=40, name='陈冠希', sex='男', tag='life is a fxxking movie'), 旧爱(Node('明星', age=40, name='陈冠希', sex='男', tag='life is a fxxking movie'), Node('明星', age=42, name='张柏芝', sex='女')), 离异(Node('明星', age=42, name='张柏芝', sex='女'), Node('明星', age=42, name='谢霆锋', sex='男')), 旧爱(Node('明星', age=42, name='谢霆锋', sex='男'), Node('明星', age=53, name='王菲', sex='女')), 离异(Node('明星', age=53, name='王菲', sex='女'), Node('明星', age=54, name='窦唯', sex='男')), 兄妹(Node('明星', age=54, name='窦唯', sex='男'), Node('明星', age=52, name='窦颖', sex='女')), 离异(Node('明星', age=52, name='窦颖', sex='女'), Node('明星', age=55, name='张亚东', sex='男')), 旧爱(Node('明星', age=55, name='张亚东', sex='男'), Node('明星', age=52, name='翟颖', sex='女')), 旧爱(Node('明星', age=52, name='翟颖', sex='女'), Node('明星', age=55, name='张亚东', sex='男')))\n",
      "Path(Node('明星', age=40, name='陈冠希', sex='男', tag='life is a fxxking movie'), 旧爱(Node('明星', age=40, name='陈冠希', sex='男', tag='life is a fxxking movie'), Node('明星', age=42, name='张柏芝', sex='女')), 离异(Node('明星', age=42, name='张柏芝', sex='女'), Node('明星', age=42, name='谢霆锋', sex='男')), 旧爱(Node('明星', age=42, name='谢霆锋', sex='男'), Node('明星', age=53, name='王菲', sex='女')), 离异(Node('明星', age=53, name='王菲', sex='女'), Node('明星', age=54, name='窦唯', sex='男')), 父亲(Node('明星', age=54, name='窦唯', sex='男'), Node('明星', age=26, name='窦靖童', sex='女')), 女儿(Node('明星', age=26, name='窦靖童', sex='女'), Node('明星', age=54, name='窦唯', sex='男')), 兄妹(Node('明星', age=54, name='窦唯', sex='男'), Node('明星', age=52, name='窦颖', sex='女')), 离异(Node('明星', age=52, name='窦颖', sex='女'), Node('明星', age=55, name='张亚东', sex='男')))\n",
      "Path(Node('明星', age=40, name='陈冠希', sex='男', tag='life is a fxxking movie'), 旧爱(Node('明星', age=40, name='陈冠希', sex='男', tag='life is a fxxking movie'), Node('明星', age=42, name='张柏芝', sex='女')), 离异(Node('明星', age=42, name='张柏芝', sex='女'), Node('明星', age=42, name='谢霆锋', sex='男')), 旧爱(Node('明星', age=42, name='谢霆锋', sex='男'), Node('明星', age=53, name='王菲', sex='女')), 离异(Node('明星', age=53, name='王菲', sex='女'), Node('明星', age=54, name='窦唯', sex='男')), 离异(Node('明星', age=54, name='窦唯', sex='男'), Node('明星', age=53, name='王菲', sex='女')), 离异(Node('明星', age=53, name='王菲', sex='女'), Node('明星', age=52, name='李亚鹏', sex='男')), 旧爱(Node('明星', age=52, name='李亚鹏', sex='男'), Node('明星', age=52, name='翟颖', sex='女')), 旧爱(Node('明星', age=52, name='翟颖', sex='女'), Node('明星', age=55, name='张亚东', sex='男')))\n",
      "Path(Node('明星', age=40, name='陈冠希', sex='男', tag='life is a fxxking movie'), 旧爱(Node('明星', age=40, name='陈冠希', sex='男', tag='life is a fxxking movie'), Node('明星', age=42, name='张柏芝', sex='女')), 离异(Node('明星', age=42, name='张柏芝', sex='女'), Node('明星', age=42, name='谢霆锋', sex='男')), 旧爱(Node('明星', age=42, name='谢霆锋', sex='男'), Node('明星', age=53, name='王菲', sex='女')), 好友(Node('明星', age=53, name='王菲', sex='女'), Node('明星', age=59, name='刘嘉玲', sex='女')), 好友(Node('明星', age=59, name='刘嘉玲', sex='女'), Node('明星', age=53, name='王菲', sex='女')), 离异(Node('明星', age=53, name='王菲', sex='女'), Node('明星', age=52, name='李亚鹏', sex='男')), 旧爱(Node('明星', age=52, name='李亚鹏', sex='男'), Node('明星', age=52, name='翟颖', sex='女')), 旧爱(Node('明星', age=52, name='翟颖', sex='女'), Node('明星', age=55, name='张亚东', sex='男')))\n",
      "Path(Node('明星', age=40, name='陈冠希', sex='男', tag='life is a fxxking movie'), 旧爱(Node('明星', age=40, name='陈冠希', sex='男', tag='life is a fxxking movie'), Node('明星', age=42, name='张柏芝', sex='女')), 离异(Node('明星', age=42, name='张柏芝', sex='女'), Node('明星', age=42, name='谢霆锋', sex='男')), 旧爱(Node('明星', age=42, name='谢霆锋', sex='男'), Node('明星', age=53, name='王菲', sex='女')), 好友(Node('明星', age=53, name='王菲', sex='女'), Node('明星', age=59, name='刘嘉玲', sex='女')), 好友(Node('明星', age=59, name='刘嘉玲', sex='女'), Node('明星', age=53, name='王菲', sex='女')), 离异(Node('明星', age=53, name='王菲', sex='女'), Node('明星', age=54, name='窦唯', sex='男')), 兄妹(Node('明星', age=54, name='窦唯', sex='男'), Node('明星', age=52, name='窦颖', sex='女')), 离异(Node('明星', age=52, name='窦颖', sex='女'), Node('明星', age=55, name='张亚东', sex='男')))\n",
      "Path(Node('明星', age=40, name='陈冠希', sex='男', tag='life is a fxxking movie'), 旧爱(Node('明星', age=40, name='陈冠希', sex='男', tag='life is a fxxking movie'), Node('明星', age=42, name='张柏芝', sex='女')), 离异(Node('明星', age=42, name='张柏芝', sex='女'), Node('明星', age=42, name='谢霆锋', sex='男')), 旧爱(Node('明星', age=42, name='谢霆锋', sex='男'), Node('明星', age=53, name='王菲', sex='女')), 好友(Node('明星', age=53, name='王菲', sex='女'), Node('明星', age=55, name='那英', sex='女')), 好友(Node('明星', age=55, name='那英', sex='女'), Node('明星', age=46, name='周迅', sex='女')), 旧爱(Node('明星', age=46, name='周迅', sex='女'), Node('明星', age=52, name='李亚鹏', sex='男')), 旧爱(Node('明星', age=52, name='李亚鹏', sex='男'), Node('明星', age=52, name='翟颖', sex='女')), 旧爱(Node('明星', age=52, name='翟颖', sex='女'), Node('明星', age=55, name='张亚东', sex='男')))\n",
      "Path(Node('明星', age=40, name='陈冠希', sex='男', tag='life is a fxxking movie'), 旧爱(Node('明星', age=40, name='陈冠希', sex='男', tag='life is a fxxking movie'), Node('明星', age=42, name='张柏芝', sex='女')), 离异(Node('明星', age=42, name='张柏芝', sex='女'), Node('明星', age=42, name='谢霆锋', sex='男')), 旧爱(Node('明星', age=42, name='谢霆锋', sex='男'), Node('明星', age=53, name='王菲', sex='女')), 好友(Node('明星', age=53, name='王菲', sex='女'), Node('明星', age=55, name='那英', sex='女')), 好友(Node('明星', age=55, name='那英', sex='女'), Node('明星', age=53, name='王菲', sex='女')), 离异(Node('明星', age=53, name='王菲', sex='女'), Node('明星', age=52, name='李亚鹏', sex='男')), 旧爱(Node('明星', age=52, name='李亚鹏', sex='男'), Node('明星', age=52, name='翟颖', sex='女')), 旧爱(Node('明星', age=52, name='翟颖', sex='女'), Node('明星', age=55, name='张亚东', sex='男')))\n",
      "Path(Node('明星', age=40, name='陈冠希', sex='男', tag='life is a fxxking movie'), 旧爱(Node('明星', age=40, name='陈冠希', sex='男', tag='life is a fxxking movie'), Node('明星', age=42, name='张柏芝', sex='女')), 离异(Node('明星', age=42, name='张柏芝', sex='女'), Node('明星', age=42, name='谢霆锋', sex='男')), 旧爱(Node('明星', age=42, name='谢霆锋', sex='男'), Node('明星', age=53, name='王菲', sex='女')), 好友(Node('明星', age=53, name='王菲', sex='女'), Node('明星', age=55, name='那英', sex='女')), 好友(Node('明星', age=55, name='那英', sex='女'), Node('明星', age=53, name='王菲', sex='女')), 离异(Node('明星', age=53, name='王菲', sex='女'), Node('明星', age=54, name='窦唯', sex='男')), 兄妹(Node('明星', age=54, name='窦唯', sex='男'), Node('明星', age=52, name='窦颖', sex='女')), 离异(Node('明星', age=52, name='窦颖', sex='女'), Node('明星', age=55, name='张亚东', sex='男')))\n"
     ]
    },
    {
     "name": "stdout",
     "output_type": "stream",
     "text": [
      "Path(Node('明星', age=40, name='陈冠希', sex='男', tag='life is a fxxking movie'), 旧爱(Node('明星', age=40, name='陈冠希', sex='男', tag='life is a fxxking movie'), Node('明星', age=42, name='张柏芝', sex='女')), 旧爱(Node('明星', age=42, name='张柏芝', sex='女'), Node('明星', age=40, name='陈冠希', sex='男', tag='life is a fxxking movie')), 旧友(Node('明星', age=40, name='陈冠希', sex='男', tag='life is a fxxking movie'), Node('明星', age=42, name='谢霆锋', sex='男')), 绯闻(Node('明星', age=42, name='谢霆锋', sex='男'), Node('明星', age=46, name='周迅', sex='女')), 旧爱(Node('明星', age=46, name='周迅', sex='女'), Node('明星', age=51, name='窦鹏', sex='男')), 堂兄弟(Node('明星', age=51, name='窦鹏', sex='男'), Node('明星', age=54, name='窦唯', sex='男')), 兄妹(Node('明星', age=54, name='窦唯', sex='男'), Node('明星', age=52, name='窦颖', sex='女')), 离异(Node('明星', age=52, name='窦颖', sex='女'), Node('明星', age=55, name='张亚东', sex='男')))\n",
      "Path(Node('明星', age=40, name='陈冠希', sex='男', tag='life is a fxxking movie'), 旧爱(Node('明星', age=40, name='陈冠希', sex='男', tag='life is a fxxking movie'), Node('明星', age=42, name='张柏芝', sex='女')), 旧爱(Node('明星', age=42, name='张柏芝', sex='女'), Node('明星', age=40, name='陈冠希', sex='男', tag='life is a fxxking movie')), 旧友(Node('明星', age=40, name='陈冠希', sex='男', tag='life is a fxxking movie'), Node('明星', age=42, name='谢霆锋', sex='男')), 绯闻(Node('明星', age=42, name='谢霆锋', sex='男'), Node('明星', age=46, name='周迅', sex='女')), 旧爱(Node('明星', age=46, name='周迅', sex='女'), Node('明星', age=52, name='李亚鹏', sex='男')), 旧爱(Node('明星', age=52, name='李亚鹏', sex='男'), Node('明星', age=52, name='翟颖', sex='女')), 旧爱(Node('明星', age=52, name='翟颖', sex='女'), Node('明星', age=55, name='张亚东', sex='男')))\n",
      "Path(Node('明星', age=40, name='陈冠希', sex='男', tag='life is a fxxking movie'), 旧爱(Node('明星', age=40, name='陈冠希', sex='男', tag='life is a fxxking movie'), Node('明星', age=42, name='张柏芝', sex='女')), 旧爱(Node('明星', age=42, name='张柏芝', sex='女'), Node('明星', age=40, name='陈冠希', sex='男', tag='life is a fxxking movie')), 旧友(Node('明星', age=40, name='陈冠希', sex='男', tag='life is a fxxking movie'), Node('明星', age=42, name='谢霆锋', sex='男')), 旧爱(Node('明星', age=42, name='谢霆锋', sex='男'), Node('明星', age=53, name='王菲', sex='女')), 离异(Node('明星', age=53, name='王菲', sex='女'), Node('明星', age=52, name='李亚鹏', sex='男')), 旧爱(Node('明星', age=52, name='李亚鹏', sex='男'), Node('明星', age=52, name='翟颖', sex='女')), 旧爱(Node('明星', age=52, name='翟颖', sex='女'), Node('明星', age=55, name='张亚东', sex='男')))\n",
      "Path(Node('明星', age=40, name='陈冠希', sex='男', tag='life is a fxxking movie'), 旧爱(Node('明星', age=40, name='陈冠希', sex='男', tag='life is a fxxking movie'), Node('明星', age=42, name='张柏芝', sex='女')), 旧爱(Node('明星', age=42, name='张柏芝', sex='女'), Node('明星', age=40, name='陈冠希', sex='男', tag='life is a fxxking movie')), 旧友(Node('明星', age=40, name='陈冠希', sex='男', tag='life is a fxxking movie'), Node('明星', age=42, name='谢霆锋', sex='男')), 旧爱(Node('明星', age=42, name='谢霆锋', sex='男'), Node('明星', age=53, name='王菲', sex='女')), 离异(Node('明星', age=53, name='王菲', sex='女'), Node('明星', age=54, name='窦唯', sex='男')), 兄妹(Node('明星', age=54, name='窦唯', sex='男'), Node('明星', age=52, name='窦颖', sex='女')), 离异(Node('明星', age=52, name='窦颖', sex='女'), Node('明星', age=55, name='张亚东', sex='男')))\n",
      "Path(Node('明星', age=40, name='陈冠希', sex='男', tag='life is a fxxking movie'), 旧友(Node('明星', age=40, name='陈冠希', sex='男', tag='life is a fxxking movie'), Node('明星', age=42, name='谢霆锋', sex='男')), 旧友(Node('明星', age=42, name='谢霆锋', sex='男'), Node('明星', age=40, name='陈冠希', sex='男', tag='life is a fxxking movie')), 旧爱(Node('明星', age=40, name='陈冠希', sex='男', tag='life is a fxxking movie'), Node('明星', age=42, name='张柏芝', sex='女')), 离异(Node('明星', age=42, name='张柏芝', sex='女'), Node('明星', age=42, name='谢霆锋', sex='男')), 绯闻(Node('明星', age=42, name='谢霆锋', sex='男'), Node('明星', age=46, name='周迅', sex='女')), 旧爱(Node('明星', age=46, name='周迅', sex='女'), Node('明星', age=52, name='李亚鹏', sex='男')), 旧爱(Node('明星', age=52, name='李亚鹏', sex='男'), Node('明星', age=52, name='翟颖', sex='女')), 旧爱(Node('明星', age=52, name='翟颖', sex='女'), Node('明星', age=55, name='张亚东', sex='男')))\n",
      "Path(Node('明星', age=40, name='陈冠希', sex='男', tag='life is a fxxking movie'), 旧友(Node('明星', age=40, name='陈冠希', sex='男', tag='life is a fxxking movie'), Node('明星', age=42, name='谢霆锋', sex='男')), 旧友(Node('明星', age=42, name='谢霆锋', sex='男'), Node('明星', age=40, name='陈冠希', sex='男', tag='life is a fxxking movie')), 旧爱(Node('明星', age=40, name='陈冠希', sex='男', tag='life is a fxxking movie'), Node('明星', age=42, name='张柏芝', sex='女')), 离异(Node('明星', age=42, name='张柏芝', sex='女'), Node('明星', age=42, name='谢霆锋', sex='男')), 旧爱(Node('明星', age=42, name='谢霆锋', sex='男'), Node('明星', age=53, name='王菲', sex='女')), 离异(Node('明星', age=53, name='王菲', sex='女'), Node('明星', age=52, name='李亚鹏', sex='男')), 旧爱(Node('明星', age=52, name='李亚鹏', sex='男'), Node('明星', age=52, name='翟颖', sex='女')), 旧爱(Node('明星', age=52, name='翟颖', sex='女'), Node('明星', age=55, name='张亚东', sex='男')))\n",
      "Path(Node('明星', age=40, name='陈冠希', sex='男', tag='life is a fxxking movie'), 旧友(Node('明星', age=40, name='陈冠希', sex='男', tag='life is a fxxking movie'), Node('明星', age=42, name='谢霆锋', sex='男')), 旧友(Node('明星', age=42, name='谢霆锋', sex='男'), Node('明星', age=40, name='陈冠希', sex='男', tag='life is a fxxking movie')), 旧爱(Node('明星', age=40, name='陈冠希', sex='男', tag='life is a fxxking movie'), Node('明星', age=42, name='张柏芝', sex='女')), 离异(Node('明星', age=42, name='张柏芝', sex='女'), Node('明星', age=42, name='谢霆锋', sex='男')), 旧爱(Node('明星', age=42, name='谢霆锋', sex='男'), Node('明星', age=53, name='王菲', sex='女')), 离异(Node('明星', age=53, name='王菲', sex='女'), Node('明星', age=54, name='窦唯', sex='男')), 兄妹(Node('明星', age=54, name='窦唯', sex='男'), Node('明星', age=52, name='窦颖', sex='女')), 离异(Node('明星', age=52, name='窦颖', sex='女'), Node('明星', age=55, name='张亚东', sex='男')))\n",
      "Path(Node('明星', age=40, name='陈冠希', sex='男', tag='life is a fxxking movie'), 旧友(Node('明星', age=40, name='陈冠希', sex='男', tag='life is a fxxking movie'), Node('明星', age=42, name='谢霆锋', sex='男')), 离异(Node('明星', age=42, name='谢霆锋', sex='男'), Node('明星', age=42, name='张柏芝', sex='女')), 离异(Node('明星', age=42, name='张柏芝', sex='女'), Node('明星', age=42, name='谢霆锋', sex='男')), 绯闻(Node('明星', age=42, name='谢霆锋', sex='男'), Node('明星', age=46, name='周迅', sex='女')), 旧爱(Node('明星', age=46, name='周迅', sex='女'), Node('明星', age=51, name='窦鹏', sex='男')), 堂兄弟(Node('明星', age=51, name='窦鹏', sex='男'), Node('明星', age=54, name='窦唯', sex='男')), 兄妹(Node('明星', age=54, name='窦唯', sex='男'), Node('明星', age=52, name='窦颖', sex='女')), 离异(Node('明星', age=52, name='窦颖', sex='女'), Node('明星', age=55, name='张亚东', sex='男')))\n",
      "Path(Node('明星', age=40, name='陈冠希', sex='男', tag='life is a fxxking movie'), 旧友(Node('明星', age=40, name='陈冠希', sex='男', tag='life is a fxxking movie'), Node('明星', age=42, name='谢霆锋', sex='男')), 离异(Node('明星', age=42, name='谢霆锋', sex='男'), Node('明星', age=42, name='张柏芝', sex='女')), 离异(Node('明星', age=42, name='张柏芝', sex='女'), Node('明星', age=42, name='谢霆锋', sex='男')), 绯闻(Node('明星', age=42, name='谢霆锋', sex='男'), Node('明星', age=46, name='周迅', sex='女')), 旧爱(Node('明星', age=46, name='周迅', sex='女'), Node('明星', age=52, name='李亚鹏', sex='男')), 旧爱(Node('明星', age=52, name='李亚鹏', sex='男'), Node('明星', age=52, name='翟颖', sex='女')), 旧爱(Node('明星', age=52, name='翟颖', sex='女'), Node('明星', age=55, name='张亚东', sex='男')))\n",
      "Path(Node('明星', age=40, name='陈冠希', sex='男', tag='life is a fxxking movie'), 旧友(Node('明星', age=40, name='陈冠希', sex='男', tag='life is a fxxking movie'), Node('明星', age=42, name='谢霆锋', sex='男')), 离异(Node('明星', age=42, name='谢霆锋', sex='男'), Node('明星', age=42, name='张柏芝', sex='女')), 离异(Node('明星', age=42, name='张柏芝', sex='女'), Node('明星', age=42, name='谢霆锋', sex='男')), 旧爱(Node('明星', age=42, name='谢霆锋', sex='男'), Node('明星', age=53, name='王菲', sex='女')), 离异(Node('明星', age=53, name='王菲', sex='女'), Node('明星', age=52, name='李亚鹏', sex='男')), 旧爱(Node('明星', age=52, name='李亚鹏', sex='男'), Node('明星', age=52, name='翟颖', sex='女')), 旧爱(Node('明星', age=52, name='翟颖', sex='女'), Node('明星', age=55, name='张亚东', sex='男')))\n",
      "Path(Node('明星', age=40, name='陈冠希', sex='男', tag='life is a fxxking movie'), 旧友(Node('明星', age=40, name='陈冠希', sex='男', tag='life is a fxxking movie'), Node('明星', age=42, name='谢霆锋', sex='男')), 离异(Node('明星', age=42, name='谢霆锋', sex='男'), Node('明星', age=42, name='张柏芝', sex='女')), 离异(Node('明星', age=42, name='张柏芝', sex='女'), Node('明星', age=42, name='谢霆锋', sex='男')), 旧爱(Node('明星', age=42, name='谢霆锋', sex='男'), Node('明星', age=53, name='王菲', sex='女')), 离异(Node('明星', age=53, name='王菲', sex='女'), Node('明星', age=54, name='窦唯', sex='男')), 兄妹(Node('明星', age=54, name='窦唯', sex='男'), Node('明星', age=52, name='窦颖', sex='女')), 离异(Node('明星', age=52, name='窦颖', sex='女'), Node('明星', age=55, name='张亚东', sex='男')))\n"
     ]
    },
    {
     "name": "stdout",
     "output_type": "stream",
     "text": [
      "Path(Node('明星', age=40, name='陈冠希', sex='男', tag='life is a fxxking movie'), 旧友(Node('明星', age=40, name='陈冠希', sex='男', tag='life is a fxxking movie'), Node('明星', age=42, name='谢霆锋', sex='男')), 绯闻(Node('明星', age=42, name='谢霆锋', sex='男'), Node('明星', age=46, name='周迅', sex='女')), 旧爱(Node('明星', age=46, name='周迅', sex='女'), Node('明星', age=51, name='窦鹏', sex='男')), 旧爱(Node('明星', age=51, name='窦鹏', sex='男'), Node('明星', age=46, name='周迅', sex='女')), 旧爱(Node('明星', age=46, name='周迅', sex='女'), Node('明星', age=52, name='李亚鹏', sex='男')), 旧爱(Node('明星', age=52, name='李亚鹏', sex='男'), Node('明星', age=52, name='翟颖', sex='女')), 旧爱(Node('明星', age=52, name='翟颖', sex='女'), Node('明星', age=55, name='张亚东', sex='男')))\n",
      "Path(Node('明星', age=40, name='陈冠希', sex='男', tag='life is a fxxking movie'), 旧友(Node('明星', age=40, name='陈冠希', sex='男', tag='life is a fxxking movie'), Node('明星', age=42, name='谢霆锋', sex='男')), 绯闻(Node('明星', age=42, name='谢霆锋', sex='男'), Node('明星', age=46, name='周迅', sex='女')), 旧爱(Node('明星', age=46, name='周迅', sex='女'), Node('明星', age=51, name='窦鹏', sex='男')), 堂兄弟(Node('明星', age=51, name='窦鹏', sex='男'), Node('明星', age=54, name='窦唯', sex='男')), 兄妹(Node('明星', age=54, name='窦唯', sex='男'), Node('明星', age=52, name='窦颖', sex='女')), 离异(Node('明星', age=52, name='窦颖', sex='女'), Node('明星', age=55, name='张亚东', sex='男')))\n",
      "Path(Node('明星', age=40, name='陈冠希', sex='男', tag='life is a fxxking movie'), 旧友(Node('明星', age=40, name='陈冠希', sex='男', tag='life is a fxxking movie'), Node('明星', age=42, name='谢霆锋', sex='男')), 绯闻(Node('明星', age=42, name='谢霆锋', sex='男'), Node('明星', age=46, name='周迅', sex='女')), 旧爱(Node('明星', age=46, name='周迅', sex='女'), Node('明星', age=51, name='窦鹏', sex='男')), 堂兄弟(Node('明星', age=51, name='窦鹏', sex='男'), Node('明星', age=54, name='窦唯', sex='男')), 兄妹(Node('明星', age=54, name='窦唯', sex='男'), Node('明星', age=52, name='窦颖', sex='女')), 离异(Node('明星', age=52, name='窦颖', sex='女'), Node('明星', age=55, name='张亚东', sex='男')), 旧爱(Node('明星', age=55, name='张亚东', sex='男'), Node('明星', age=52, name='翟颖', sex='女')), 旧爱(Node('明星', age=52, name='翟颖', sex='女'), Node('明星', age=55, name='张亚东', sex='男')))\n",
      "Path(Node('明星', age=40, name='陈冠希', sex='男', tag='life is a fxxking movie'), 旧友(Node('明星', age=40, name='陈冠希', sex='男', tag='life is a fxxking movie'), Node('明星', age=42, name='谢霆锋', sex='男')), 绯闻(Node('明星', age=42, name='谢霆锋', sex='男'), Node('明星', age=46, name='周迅', sex='女')), 旧爱(Node('明星', age=46, name='周迅', sex='女'), Node('明星', age=51, name='窦鹏', sex='男')), 堂兄弟(Node('明星', age=51, name='窦鹏', sex='男'), Node('明星', age=54, name='窦唯', sex='男')), 父亲(Node('明星', age=54, name='窦唯', sex='男'), Node('明星', age=26, name='窦靖童', sex='女')), 女儿(Node('明星', age=26, name='窦靖童', sex='女'), Node('明星', age=54, name='窦唯', sex='男')), 兄妹(Node('明星', age=54, name='窦唯', sex='男'), Node('明星', age=52, name='窦颖', sex='女')), 离异(Node('明星', age=52, name='窦颖', sex='女'), Node('明星', age=55, name='张亚东', sex='男')))\n",
      "Path(Node('明星', age=40, name='陈冠希', sex='男', tag='life is a fxxking movie'), 旧友(Node('明星', age=40, name='陈冠希', sex='男', tag='life is a fxxking movie'), Node('明星', age=42, name='谢霆锋', sex='男')), 绯闻(Node('明星', age=42, name='谢霆锋', sex='男'), Node('明星', age=46, name='周迅', sex='女')), 旧爱(Node('明星', age=46, name='周迅', sex='女'), Node('明星', age=51, name='窦鹏', sex='男')), 堂兄弟(Node('明星', age=51, name='窦鹏', sex='男'), Node('明星', age=54, name='窦唯', sex='男')), 离异(Node('明星', age=54, name='窦唯', sex='男'), Node('明星', age=53, name='王菲', sex='女')), 离异(Node('明星', age=53, name='王菲', sex='女'), Node('明星', age=52, name='李亚鹏', sex='男')), 旧爱(Node('明星', age=52, name='李亚鹏', sex='男'), Node('明星', age=52, name='翟颖', sex='女')), 旧爱(Node('明星', age=52, name='翟颖', sex='女'), Node('明星', age=55, name='张亚东', sex='男')))\n",
      "Path(Node('明星', age=40, name='陈冠希', sex='男', tag='life is a fxxking movie'), 旧友(Node('明星', age=40, name='陈冠希', sex='男', tag='life is a fxxking movie'), Node('明星', age=42, name='谢霆锋', sex='男')), 绯闻(Node('明星', age=42, name='谢霆锋', sex='男'), Node('明星', age=46, name='周迅', sex='女')), 旧爱(Node('明星', age=46, name='周迅', sex='女'), Node('明星', age=51, name='窦鹏', sex='男')), 堂兄弟(Node('明星', age=51, name='窦鹏', sex='男'), Node('明星', age=54, name='窦唯', sex='男')), 离异(Node('明星', age=54, name='窦唯', sex='男'), Node('明星', age=53, name='王菲', sex='女')), 离异(Node('明星', age=53, name='王菲', sex='女'), Node('明星', age=54, name='窦唯', sex='男')), 兄妹(Node('明星', age=54, name='窦唯', sex='男'), Node('明星', age=52, name='窦颖', sex='女')), 离异(Node('明星', age=52, name='窦颖', sex='女'), Node('明星', age=55, name='张亚东', sex='男')))\n",
      "Path(Node('明星', age=40, name='陈冠希', sex='男', tag='life is a fxxking movie'), 旧友(Node('明星', age=40, name='陈冠希', sex='男', tag='life is a fxxking movie'), Node('明星', age=42, name='谢霆锋', sex='男')), 绯闻(Node('明星', age=42, name='谢霆锋', sex='男'), Node('明星', age=46, name='周迅', sex='女')), 旧爱(Node('明星', age=46, name='周迅', sex='女'), Node('明星', age=53, name='李大齐', sex='男')), 旧爱(Node('明星', age=53, name='李大齐', sex='男'), Node('明星', age=46, name='周迅', sex='女')), 旧爱(Node('明星', age=46, name='周迅', sex='女'), Node('明星', age=51, name='窦鹏', sex='男')), 堂兄弟(Node('明星', age=51, name='窦鹏', sex='男'), Node('明星', age=54, name='窦唯', sex='男')), 兄妹(Node('明星', age=54, name='窦唯', sex='男'), Node('明星', age=52, name='窦颖', sex='女')), 离异(Node('明星', age=52, name='窦颖', sex='女'), Node('明星', age=55, name='张亚东', sex='男')))\n",
      "Path(Node('明星', age=40, name='陈冠希', sex='男', tag='life is a fxxking movie'), 旧友(Node('明星', age=40, name='陈冠希', sex='男', tag='life is a fxxking movie'), Node('明星', age=42, name='谢霆锋', sex='男')), 绯闻(Node('明星', age=42, name='谢霆锋', sex='男'), Node('明星', age=46, name='周迅', sex='女')), 旧爱(Node('明星', age=46, name='周迅', sex='女'), Node('明星', age=53, name='李大齐', sex='男')), 旧爱(Node('明星', age=53, name='李大齐', sex='男'), Node('明星', age=46, name='周迅', sex='女')), 旧爱(Node('明星', age=46, name='周迅', sex='女'), Node('明星', age=52, name='李亚鹏', sex='男')), 旧爱(Node('明星', age=52, name='李亚鹏', sex='男'), Node('明星', age=52, name='翟颖', sex='女')), 旧爱(Node('明星', age=52, name='翟颖', sex='女'), Node('明星', age=55, name='张亚东', sex='男')))\n",
      "Path(Node('明星', age=40, name='陈冠希', sex='男', tag='life is a fxxking movie'), 旧友(Node('明星', age=40, name='陈冠希', sex='男', tag='life is a fxxking movie'), Node('明星', age=42, name='谢霆锋', sex='男')), 绯闻(Node('明星', age=42, name='谢霆锋', sex='男'), Node('明星', age=46, name='周迅', sex='女')), 旧爱(Node('明星', age=46, name='周迅', sex='女'), Node('明星', age=53, name='朴树', sex='男')), 旧爱(Node('明星', age=53, name='朴树', sex='男'), Node('明星', age=46, name='周迅', sex='女')), 旧爱(Node('明星', age=46, name='周迅', sex='女'), Node('明星', age=51, name='窦鹏', sex='男')), 堂兄弟(Node('明星', age=51, name='窦鹏', sex='男'), Node('明星', age=54, name='窦唯', sex='男')), 兄妹(Node('明星', age=54, name='窦唯', sex='男'), Node('明星', age=52, name='窦颖', sex='女')), 离异(Node('明星', age=52, name='窦颖', sex='女'), Node('明星', age=55, name='张亚东', sex='男')))\n",
      "Path(Node('明星', age=40, name='陈冠希', sex='男', tag='life is a fxxking movie'), 旧友(Node('明星', age=40, name='陈冠希', sex='男', tag='life is a fxxking movie'), Node('明星', age=42, name='谢霆锋', sex='男')), 绯闻(Node('明星', age=42, name='谢霆锋', sex='男'), Node('明星', age=46, name='周迅', sex='女')), 旧爱(Node('明星', age=46, name='周迅', sex='女'), Node('明星', age=53, name='朴树', sex='男')), 旧爱(Node('明星', age=53, name='朴树', sex='男'), Node('明星', age=46, name='周迅', sex='女')), 旧爱(Node('明星', age=46, name='周迅', sex='女'), Node('明星', age=52, name='李亚鹏', sex='男')), 旧爱(Node('明星', age=52, name='李亚鹏', sex='男'), Node('明星', age=52, name='翟颖', sex='女')), 旧爱(Node('明星', age=52, name='翟颖', sex='女'), Node('明星', age=55, name='张亚东', sex='男')))\n",
      "Path(Node('明星', age=40, name='陈冠希', sex='男', tag='life is a fxxking movie'), 旧友(Node('明星', age=40, name='陈冠希', sex='男', tag='life is a fxxking movie'), Node('明星', age=42, name='谢霆锋', sex='男')), 绯闻(Node('明星', age=42, name='谢霆锋', sex='男'), Node('明星', age=46, name='周迅', sex='女')), 旧爱(Node('明星', age=46, name='周迅', sex='女'), Node('明星', age=52, name='李亚鹏', sex='男')), 旧爱(Node('明星', age=52, name='李亚鹏', sex='男'), Node('明星', age=52, name='翟颖', sex='女')), 旧爱(Node('明星', age=52, name='翟颖', sex='女'), Node('明星', age=55, name='张亚东', sex='男')))\n",
      "Path(Node('明星', age=40, name='陈冠希', sex='男', tag='life is a fxxking movie'), 旧友(Node('明星', age=40, name='陈冠希', sex='男', tag='life is a fxxking movie'), Node('明星', age=42, name='谢霆锋', sex='男')), 绯闻(Node('明星', age=42, name='谢霆锋', sex='男'), Node('明星', age=46, name='周迅', sex='女')), 旧爱(Node('明星', age=46, name='周迅', sex='女'), Node('明星', age=52, name='李亚鹏', sex='男')), 旧爱(Node('明星', age=52, name='李亚鹏', sex='男'), Node('明星', age=52, name='翟颖', sex='女')), 旧爱(Node('明星', age=52, name='翟颖', sex='女'), Node('明星', age=55, name='张亚东', sex='男')), 离异(Node('明星', age=55, name='张亚东', sex='男'), Node('明星', age=52, name='窦颖', sex='女')), 离异(Node('明星', age=52, name='窦颖', sex='女'), Node('明星', age=55, name='张亚东', sex='男')))\n",
      "Path(Node('明星', age=40, name='陈冠希', sex='男', tag='life is a fxxking movie'), 旧友(Node('明星', age=40, name='陈冠希', sex='男', tag='life is a fxxking movie'), Node('明星', age=42, name='谢霆锋', sex='男')), 绯闻(Node('明星', age=42, name='谢霆锋', sex='男'), Node('明星', age=46, name='周迅', sex='女')), 旧爱(Node('明星', age=46, name='周迅', sex='女'), Node('明星', age=52, name='李亚鹏', sex='男')), 旧爱(Node('明星', age=52, name='李亚鹏', sex='男'), Node('明星', age=46, name='周迅', sex='女')), 旧爱(Node('明星', age=46, name='周迅', sex='女'), Node('明星', age=51, name='窦鹏', sex='男')), 堂兄弟(Node('明星', age=51, name='窦鹏', sex='男'), Node('明星', age=54, name='窦唯', sex='男')), 兄妹(Node('明星', age=54, name='窦唯', sex='男'), Node('明星', age=52, name='窦颖', sex='女')), 离异(Node('明星', age=52, name='窦颖', sex='女'), Node('明星', age=55, name='张亚东', sex='男')))\n",
      "Path(Node('明星', age=40, name='陈冠希', sex='男', tag='life is a fxxking movie'), 旧友(Node('明星', age=40, name='陈冠希', sex='男', tag='life is a fxxking movie'), Node('明星', age=42, name='谢霆锋', sex='男')), 绯闻(Node('明星', age=42, name='谢霆锋', sex='男'), Node('明星', age=46, name='周迅', sex='女')), 旧爱(Node('明星', age=46, name='周迅', sex='女'), Node('明星', age=52, name='李亚鹏', sex='男')), 离异(Node('明星', age=52, name='李亚鹏', sex='男'), Node('明星', age=53, name='王菲', sex='女')), 离异(Node('明星', age=53, name='王菲', sex='女'), Node('明星', age=52, name='李亚鹏', sex='男')), 旧爱(Node('明星', age=52, name='李亚鹏', sex='男'), Node('明星', age=52, name='翟颖', sex='女')), 旧爱(Node('明星', age=52, name='翟颖', sex='女'), Node('明星', age=55, name='张亚东', sex='男')))\n",
      "Path(Node('明星', age=40, name='陈冠希', sex='男', tag='life is a fxxking movie'), 旧友(Node('明星', age=40, name='陈冠希', sex='男', tag='life is a fxxking movie'), Node('明星', age=42, name='谢霆锋', sex='男')), 绯闻(Node('明星', age=42, name='谢霆锋', sex='男'), Node('明星', age=46, name='周迅', sex='女')), 旧爱(Node('明星', age=46, name='周迅', sex='女'), Node('明星', age=52, name='李亚鹏', sex='男')), 离异(Node('明星', age=52, name='李亚鹏', sex='男'), Node('明星', age=53, name='王菲', sex='女')), 离异(Node('明星', age=53, name='王菲', sex='女'), Node('明星', age=54, name='窦唯', sex='男')), 兄妹(Node('明星', age=54, name='窦唯', sex='男'), Node('明星', age=52, name='窦颖', sex='女')), 离异(Node('明星', age=52, name='窦颖', sex='女'), Node('明星', age=55, name='张亚东', sex='男')))\n",
      "Path(Node('明星', age=40, name='陈冠希', sex='男', tag='life is a fxxking movie'), 旧友(Node('明星', age=40, name='陈冠希', sex='男', tag='life is a fxxking movie'), Node('明星', age=42, name='谢霆锋', sex='男')), 绯闻(Node('明星', age=42, name='谢霆锋', sex='男'), Node('明星', age=46, name='周迅', sex='女')), 绯闻(Node('明星', age=46, name='周迅', sex='女'), Node('明星', age=61, name='梁朝伟', sex='男')), 夫妻(Node('明星', age=61, name='梁朝伟', sex='男'), Node('明星', age=59, name='刘嘉玲', sex='女')), 好友(Node('明星', age=59, name='刘嘉玲', sex='女'), Node('明星', age=53, name='王菲', sex='女')), 离异(Node('明星', age=53, name='王菲', sex='女'), Node('明星', age=52, name='李亚鹏', sex='男')), 旧爱(Node('明星', age=52, name='李亚鹏', sex='男'), Node('明星', age=52, name='翟颖', sex='女')), 旧爱(Node('明星', age=52, name='翟颖', sex='女'), Node('明星', age=55, name='张亚东', sex='男')))\n",
      "Path(Node('明星', age=40, name='陈冠希', sex='男', tag='life is a fxxking movie'), 旧友(Node('明星', age=40, name='陈冠希', sex='男', tag='life is a fxxking movie'), Node('明星', age=42, name='谢霆锋', sex='男')), 绯闻(Node('明星', age=42, name='谢霆锋', sex='男'), Node('明星', age=46, name='周迅', sex='女')), 绯闻(Node('明星', age=46, name='周迅', sex='女'), Node('明星', age=61, name='梁朝伟', sex='男')), 夫妻(Node('明星', age=61, name='梁朝伟', sex='男'), Node('明星', age=59, name='刘嘉玲', sex='女')), 好友(Node('明星', age=59, name='刘嘉玲', sex='女'), Node('明星', age=53, name='王菲', sex='女')), 离异(Node('明星', age=53, name='王菲', sex='女'), Node('明星', age=54, name='窦唯', sex='男')), 兄妹(Node('明星', age=54, name='窦唯', sex='男'), Node('明星', age=52, name='窦颖', sex='女')), 离异(Node('明星', age=52, name='窦颖', sex='女'), Node('明星', age=55, name='张亚东', sex='男')))\n",
      "Path(Node('明星', age=40, name='陈冠希', sex='男', tag='life is a fxxking movie'), 旧友(Node('明星', age=40, name='陈冠希', sex='男', tag='life is a fxxking movie'), Node('明星', age=42, name='谢霆锋', sex='男')), 绯闻(Node('明星', age=42, name='谢霆锋', sex='男'), Node('明星', age=46, name='周迅', sex='女')), 绯闻(Node('明星', age=46, name='周迅', sex='女'), Node('明星', age=61, name='梁朝伟', sex='男')), 绯闻(Node('明星', age=61, name='梁朝伟', sex='男'), Node('明星', age=46, name='周迅', sex='女')), 旧爱(Node('明星', age=46, name='周迅', sex='女'), Node('明星', age=51, name='窦鹏', sex='男')), 堂兄弟(Node('明星', age=51, name='窦鹏', sex='男'), Node('明星', age=54, name='窦唯', sex='男')), 兄妹(Node('明星', age=54, name='窦唯', sex='男'), Node('明星', age=52, name='窦颖', sex='女')), 离异(Node('明星', age=52, name='窦颖', sex='女'), Node('明星', age=55, name='张亚东', sex='男')))\n",
      "Path(Node('明星', age=40, name='陈冠希', sex='男', tag='life is a fxxking movie'), 旧友(Node('明星', age=40, name='陈冠希', sex='男', tag='life is a fxxking movie'), Node('明星', age=42, name='谢霆锋', sex='男')), 绯闻(Node('明星', age=42, name='谢霆锋', sex='男'), Node('明星', age=46, name='周迅', sex='女')), 绯闻(Node('明星', age=46, name='周迅', sex='女'), Node('明星', age=61, name='梁朝伟', sex='男')), 绯闻(Node('明星', age=61, name='梁朝伟', sex='男'), Node('明星', age=46, name='周迅', sex='女')), 旧爱(Node('明星', age=46, name='周迅', sex='女'), Node('明星', age=52, name='李亚鹏', sex='男')), 旧爱(Node('明星', age=52, name='李亚鹏', sex='男'), Node('明星', age=52, name='翟颖', sex='女')), 旧爱(Node('明星', age=52, name='翟颖', sex='女'), Node('明星', age=55, name='张亚东', sex='男')))\n",
      "Path(Node('明星', age=40, name='陈冠希', sex='男', tag='life is a fxxking movie'), 旧友(Node('明星', age=40, name='陈冠希', sex='男', tag='life is a fxxking movie'), Node('明星', age=42, name='谢霆锋', sex='男')), 绯闻(Node('明星', age=42, name='谢霆锋', sex='男'), Node('明星', age=46, name='周迅', sex='女')), 绯闻(Node('明星', age=46, name='周迅', sex='女'), Node('明星', age=42, name='谢霆锋', sex='男')), 旧爱(Node('明星', age=42, name='谢霆锋', sex='男'), Node('明星', age=53, name='王菲', sex='女')), 离异(Node('明星', age=53, name='王菲', sex='女'), Node('明星', age=52, name='李亚鹏', sex='男')), 旧爱(Node('明星', age=52, name='李亚鹏', sex='男'), Node('明星', age=52, name='翟颖', sex='女')), 旧爱(Node('明星', age=52, name='翟颖', sex='女'), Node('明星', age=55, name='张亚东', sex='男')))\n",
      "Path(Node('明星', age=40, name='陈冠希', sex='男', tag='life is a fxxking movie'), 旧友(Node('明星', age=40, name='陈冠希', sex='男', tag='life is a fxxking movie'), Node('明星', age=42, name='谢霆锋', sex='男')), 绯闻(Node('明星', age=42, name='谢霆锋', sex='男'), Node('明星', age=46, name='周迅', sex='女')), 绯闻(Node('明星', age=46, name='周迅', sex='女'), Node('明星', age=42, name='谢霆锋', sex='男')), 旧爱(Node('明星', age=42, name='谢霆锋', sex='男'), Node('明星', age=53, name='王菲', sex='女')), 离异(Node('明星', age=53, name='王菲', sex='女'), Node('明星', age=54, name='窦唯', sex='男')), 兄妹(Node('明星', age=54, name='窦唯', sex='男'), Node('明星', age=52, name='窦颖', sex='女')), 离异(Node('明星', age=52, name='窦颖', sex='女'), Node('明星', age=55, name='张亚东', sex='男')))\n"
     ]
    },
    {
     "name": "stdout",
     "output_type": "stream",
     "text": [
      "Path(Node('明星', age=40, name='陈冠希', sex='男', tag='life is a fxxking movie'), 旧友(Node('明星', age=40, name='陈冠希', sex='男', tag='life is a fxxking movie'), Node('明星', age=42, name='谢霆锋', sex='男')), 绯闻(Node('明星', age=42, name='谢霆锋', sex='男'), Node('明星', age=46, name='周迅', sex='女')), 好友(Node('明星', age=46, name='周迅', sex='女'), Node('明星', age=55, name='那英', sex='女')), 好友(Node('明星', age=55, name='那英', sex='女'), Node('明星', age=46, name='周迅', sex='女')), 旧爱(Node('明星', age=46, name='周迅', sex='女'), Node('明星', age=51, name='窦鹏', sex='男')), 堂兄弟(Node('明星', age=51, name='窦鹏', sex='男'), Node('明星', age=54, name='窦唯', sex='男')), 兄妹(Node('明星', age=54, name='窦唯', sex='男'), Node('明星', age=52, name='窦颖', sex='女')), 离异(Node('明星', age=52, name='窦颖', sex='女'), Node('明星', age=55, name='张亚东', sex='男')))\n",
      "Path(Node('明星', age=40, name='陈冠希', sex='男', tag='life is a fxxking movie'), 旧友(Node('明星', age=40, name='陈冠希', sex='男', tag='life is a fxxking movie'), Node('明星', age=42, name='谢霆锋', sex='男')), 绯闻(Node('明星', age=42, name='谢霆锋', sex='男'), Node('明星', age=46, name='周迅', sex='女')), 好友(Node('明星', age=46, name='周迅', sex='女'), Node('明星', age=55, name='那英', sex='女')), 好友(Node('明星', age=55, name='那英', sex='女'), Node('明星', age=46, name='周迅', sex='女')), 旧爱(Node('明星', age=46, name='周迅', sex='女'), Node('明星', age=52, name='李亚鹏', sex='男')), 旧爱(Node('明星', age=52, name='李亚鹏', sex='男'), Node('明星', age=52, name='翟颖', sex='女')), 旧爱(Node('明星', age=52, name='翟颖', sex='女'), Node('明星', age=55, name='张亚东', sex='男')))\n",
      "Path(Node('明星', age=40, name='陈冠希', sex='男', tag='life is a fxxking movie'), 旧友(Node('明星', age=40, name='陈冠希', sex='男', tag='life is a fxxking movie'), Node('明星', age=42, name='谢霆锋', sex='男')), 绯闻(Node('明星', age=42, name='谢霆锋', sex='男'), Node('明星', age=46, name='周迅', sex='女')), 好友(Node('明星', age=46, name='周迅', sex='女'), Node('明星', age=55, name='那英', sex='女')), 好友(Node('明星', age=55, name='那英', sex='女'), Node('明星', age=53, name='王菲', sex='女')), 离异(Node('明星', age=53, name='王菲', sex='女'), Node('明星', age=52, name='李亚鹏', sex='男')), 旧爱(Node('明星', age=52, name='李亚鹏', sex='男'), Node('明星', age=52, name='翟颖', sex='女')), 旧爱(Node('明星', age=52, name='翟颖', sex='女'), Node('明星', age=55, name='张亚东', sex='男')))\n",
      "Path(Node('明星', age=40, name='陈冠希', sex='男', tag='life is a fxxking movie'), 旧友(Node('明星', age=40, name='陈冠希', sex='男', tag='life is a fxxking movie'), Node('明星', age=42, name='谢霆锋', sex='男')), 绯闻(Node('明星', age=42, name='谢霆锋', sex='男'), Node('明星', age=46, name='周迅', sex='女')), 好友(Node('明星', age=46, name='周迅', sex='女'), Node('明星', age=55, name='那英', sex='女')), 好友(Node('明星', age=55, name='那英', sex='女'), Node('明星', age=53, name='王菲', sex='女')), 离异(Node('明星', age=53, name='王菲', sex='女'), Node('明星', age=54, name='窦唯', sex='男')), 兄妹(Node('明星', age=54, name='窦唯', sex='男'), Node('明星', age=52, name='窦颖', sex='女')), 离异(Node('明星', age=52, name='窦颖', sex='女'), Node('明星', age=55, name='张亚东', sex='男')))\n",
      "Path(Node('明星', age=40, name='陈冠希', sex='男', tag='life is a fxxking movie'), 旧友(Node('明星', age=40, name='陈冠希', sex='男', tag='life is a fxxking movie'), Node('明星', age=42, name='谢霆锋', sex='男')), 旧爱(Node('明星', age=42, name='谢霆锋', sex='男'), Node('明星', age=53, name='王菲', sex='女')), 离异(Node('明星', age=53, name='王菲', sex='女'), Node('明星', age=52, name='李亚鹏', sex='男')), 旧爱(Node('明星', age=52, name='李亚鹏', sex='男'), Node('明星', age=52, name='翟颖', sex='女')), 旧爱(Node('明星', age=52, name='翟颖', sex='女'), Node('明星', age=55, name='张亚东', sex='男')))\n",
      "Path(Node('明星', age=40, name='陈冠希', sex='男', tag='life is a fxxking movie'), 旧友(Node('明星', age=40, name='陈冠希', sex='男', tag='life is a fxxking movie'), Node('明星', age=42, name='谢霆锋', sex='男')), 旧爱(Node('明星', age=42, name='谢霆锋', sex='男'), Node('明星', age=53, name='王菲', sex='女')), 离异(Node('明星', age=53, name='王菲', sex='女'), Node('明星', age=52, name='李亚鹏', sex='男')), 旧爱(Node('明星', age=52, name='李亚鹏', sex='男'), Node('明星', age=52, name='翟颖', sex='女')), 旧爱(Node('明星', age=52, name='翟颖', sex='女'), Node('明星', age=55, name='张亚东', sex='男')), 离异(Node('明星', age=55, name='张亚东', sex='男'), Node('明星', age=52, name='窦颖', sex='女')), 离异(Node('明星', age=52, name='窦颖', sex='女'), Node('明星', age=55, name='张亚东', sex='男')))\n",
      "Path(Node('明星', age=40, name='陈冠希', sex='男', tag='life is a fxxking movie'), 旧友(Node('明星', age=40, name='陈冠希', sex='男', tag='life is a fxxking movie'), Node('明星', age=42, name='谢霆锋', sex='男')), 旧爱(Node('明星', age=42, name='谢霆锋', sex='男'), Node('明星', age=53, name='王菲', sex='女')), 离异(Node('明星', age=53, name='王菲', sex='女'), Node('明星', age=52, name='李亚鹏', sex='男')), 旧爱(Node('明星', age=52, name='李亚鹏', sex='男'), Node('明星', age=46, name='周迅', sex='女')), 旧爱(Node('明星', age=46, name='周迅', sex='女'), Node('明星', age=51, name='窦鹏', sex='男')), 堂兄弟(Node('明星', age=51, name='窦鹏', sex='男'), Node('明星', age=54, name='窦唯', sex='男')), 兄妹(Node('明星', age=54, name='窦唯', sex='男'), Node('明星', age=52, name='窦颖', sex='女')), 离异(Node('明星', age=52, name='窦颖', sex='女'), Node('明星', age=55, name='张亚东', sex='男')))\n",
      "Path(Node('明星', age=40, name='陈冠希', sex='男', tag='life is a fxxking movie'), 旧友(Node('明星', age=40, name='陈冠希', sex='男', tag='life is a fxxking movie'), Node('明星', age=42, name='谢霆锋', sex='男')), 旧爱(Node('明星', age=42, name='谢霆锋', sex='男'), Node('明星', age=53, name='王菲', sex='女')), 离异(Node('明星', age=53, name='王菲', sex='女'), Node('明星', age=52, name='李亚鹏', sex='男')), 旧爱(Node('明星', age=52, name='李亚鹏', sex='男'), Node('明星', age=46, name='周迅', sex='女')), 旧爱(Node('明星', age=46, name='周迅', sex='女'), Node('明星', age=52, name='李亚鹏', sex='男')), 旧爱(Node('明星', age=52, name='李亚鹏', sex='男'), Node('明星', age=52, name='翟颖', sex='女')), 旧爱(Node('明星', age=52, name='翟颖', sex='女'), Node('明星', age=55, name='张亚东', sex='男')))\n",
      "Path(Node('明星', age=40, name='陈冠希', sex='男', tag='life is a fxxking movie'), 旧友(Node('明星', age=40, name='陈冠希', sex='男', tag='life is a fxxking movie'), Node('明星', age=42, name='谢霆锋', sex='男')), 旧爱(Node('明星', age=42, name='谢霆锋', sex='男'), Node('明星', age=53, name='王菲', sex='女')), 离异(Node('明星', age=53, name='王菲', sex='女'), Node('明星', age=52, name='李亚鹏', sex='男')), 离异(Node('明星', age=52, name='李亚鹏', sex='男'), Node('明星', age=53, name='王菲', sex='女')), 离异(Node('明星', age=53, name='王菲', sex='女'), Node('明星', age=54, name='窦唯', sex='男')), 兄妹(Node('明星', age=54, name='窦唯', sex='男'), Node('明星', age=52, name='窦颖', sex='女')), 离异(Node('明星', age=52, name='窦颖', sex='女'), Node('明星', age=55, name='张亚东', sex='男')))\n",
      "Path(Node('明星', age=40, name='陈冠希', sex='男', tag='life is a fxxking movie'), 旧友(Node('明星', age=40, name='陈冠希', sex='男', tag='life is a fxxking movie'), Node('明星', age=42, name='谢霆锋', sex='男')), 旧爱(Node('明星', age=42, name='谢霆锋', sex='男'), Node('明星', age=53, name='王菲', sex='女')), 旧爱(Node('明星', age=53, name='王菲', sex='女'), Node('明星', age=42, name='谢霆锋', sex='男')), 绯闻(Node('明星', age=42, name='谢霆锋', sex='男'), Node('明星', age=46, name='周迅', sex='女')), 旧爱(Node('明星', age=46, name='周迅', sex='女'), Node('明星', age=51, name='窦鹏', sex='男')), 堂兄弟(Node('明星', age=51, name='窦鹏', sex='男'), Node('明星', age=54, name='窦唯', sex='男')), 兄妹(Node('明星', age=54, name='窦唯', sex='男'), Node('明星', age=52, name='窦颖', sex='女')), 离异(Node('明星', age=52, name='窦颖', sex='女'), Node('明星', age=55, name='张亚东', sex='男')))\n",
      "Path(Node('明星', age=40, name='陈冠希', sex='男', tag='life is a fxxking movie'), 旧友(Node('明星', age=40, name='陈冠希', sex='男', tag='life is a fxxking movie'), Node('明星', age=42, name='谢霆锋', sex='男')), 旧爱(Node('明星', age=42, name='谢霆锋', sex='男'), Node('明星', age=53, name='王菲', sex='女')), 旧爱(Node('明星', age=53, name='王菲', sex='女'), Node('明星', age=42, name='谢霆锋', sex='男')), 绯闻(Node('明星', age=42, name='谢霆锋', sex='男'), Node('明星', age=46, name='周迅', sex='女')), 旧爱(Node('明星', age=46, name='周迅', sex='女'), Node('明星', age=52, name='李亚鹏', sex='男')), 旧爱(Node('明星', age=52, name='李亚鹏', sex='男'), Node('明星', age=52, name='翟颖', sex='女')), 旧爱(Node('明星', age=52, name='翟颖', sex='女'), Node('明星', age=55, name='张亚东', sex='男')))\n",
      "Path(Node('明星', age=40, name='陈冠希', sex='男', tag='life is a fxxking movie'), 旧友(Node('明星', age=40, name='陈冠希', sex='男', tag='life is a fxxking movie'), Node('明星', age=42, name='谢霆锋', sex='男')), 旧爱(Node('明星', age=42, name='谢霆锋', sex='男'), Node('明星', age=53, name='王菲', sex='女')), 离异(Node('明星', age=53, name='王菲', sex='女'), Node('明星', age=54, name='窦唯', sex='男')), 堂兄弟(Node('明星', age=54, name='窦唯', sex='男'), Node('明星', age=51, name='窦鹏', sex='男')), 旧爱(Node('明星', age=51, name='窦鹏', sex='男'), Node('明星', age=46, name='周迅', sex='女')), 旧爱(Node('明星', age=46, name='周迅', sex='女'), Node('明星', age=52, name='李亚鹏', sex='男')), 旧爱(Node('明星', age=52, name='李亚鹏', sex='男'), Node('明星', age=52, name='翟颖', sex='女')), 旧爱(Node('明星', age=52, name='翟颖', sex='女'), Node('明星', age=55, name='张亚东', sex='男')))\n",
      "Path(Node('明星', age=40, name='陈冠希', sex='男', tag='life is a fxxking movie'), 旧友(Node('明星', age=40, name='陈冠希', sex='男', tag='life is a fxxking movie'), Node('明星', age=42, name='谢霆锋', sex='男')), 旧爱(Node('明星', age=42, name='谢霆锋', sex='男'), Node('明星', age=53, name='王菲', sex='女')), 离异(Node('明星', age=53, name='王菲', sex='女'), Node('明星', age=54, name='窦唯', sex='男')), 堂兄弟(Node('明星', age=54, name='窦唯', sex='男'), Node('明星', age=51, name='窦鹏', sex='男')), 堂兄弟(Node('明星', age=51, name='窦鹏', sex='男'), Node('明星', age=54, name='窦唯', sex='男')), 兄妹(Node('明星', age=54, name='窦唯', sex='男'), Node('明星', age=52, name='窦颖', sex='女')), 离异(Node('明星', age=52, name='窦颖', sex='女'), Node('明星', age=55, name='张亚东', sex='男')))\n"
     ]
    },
    {
     "name": "stdout",
     "output_type": "stream",
     "text": [
      "Path(Node('明星', age=40, name='陈冠希', sex='男', tag='life is a fxxking movie'), 旧友(Node('明星', age=40, name='陈冠希', sex='男', tag='life is a fxxking movie'), Node('明星', age=42, name='谢霆锋', sex='男')), 旧爱(Node('明星', age=42, name='谢霆锋', sex='男'), Node('明星', age=53, name='王菲', sex='女')), 离异(Node('明星', age=53, name='王菲', sex='女'), Node('明星', age=54, name='窦唯', sex='男')), 兄妹(Node('明星', age=54, name='窦唯', sex='男'), Node('明星', age=52, name='窦颖', sex='女')), 离异(Node('明星', age=52, name='窦颖', sex='女'), Node('明星', age=55, name='张亚东', sex='男')))\n",
      "Path(Node('明星', age=40, name='陈冠希', sex='男', tag='life is a fxxking movie'), 旧友(Node('明星', age=40, name='陈冠希', sex='男', tag='life is a fxxking movie'), Node('明星', age=42, name='谢霆锋', sex='男')), 旧爱(Node('明星', age=42, name='谢霆锋', sex='男'), Node('明星', age=53, name='王菲', sex='女')), 离异(Node('明星', age=53, name='王菲', sex='女'), Node('明星', age=54, name='窦唯', sex='男')), 兄妹(Node('明星', age=54, name='窦唯', sex='男'), Node('明星', age=52, name='窦颖', sex='女')), 离异(Node('明星', age=52, name='窦颖', sex='女'), Node('明星', age=55, name='张亚东', sex='男')), 旧爱(Node('明星', age=55, name='张亚东', sex='男'), Node('明星', age=52, name='翟颖', sex='女')), 旧爱(Node('明星', age=52, name='翟颖', sex='女'), Node('明星', age=55, name='张亚东', sex='男')))\n",
      "Path(Node('明星', age=40, name='陈冠希', sex='男', tag='life is a fxxking movie'), 旧友(Node('明星', age=40, name='陈冠希', sex='男', tag='life is a fxxking movie'), Node('明星', age=42, name='谢霆锋', sex='男')), 旧爱(Node('明星', age=42, name='谢霆锋', sex='男'), Node('明星', age=53, name='王菲', sex='女')), 离异(Node('明星', age=53, name='王菲', sex='女'), Node('明星', age=54, name='窦唯', sex='男')), 父亲(Node('明星', age=54, name='窦唯', sex='男'), Node('明星', age=26, name='窦靖童', sex='女')), 女儿(Node('明星', age=26, name='窦靖童', sex='女'), Node('明星', age=53, name='王菲', sex='女')), 离异(Node('明星', age=53, name='王菲', sex='女'), Node('明星', age=52, name='李亚鹏', sex='男')), 旧爱(Node('明星', age=52, name='李亚鹏', sex='男'), Node('明星', age=52, name='翟颖', sex='女')), 旧爱(Node('明星', age=52, name='翟颖', sex='女'), Node('明星', age=55, name='张亚东', sex='男')))\n",
      "Path(Node('明星', age=40, name='陈冠希', sex='男', tag='life is a fxxking movie'), 旧友(Node('明星', age=40, name='陈冠希', sex='男', tag='life is a fxxking movie'), Node('明星', age=42, name='谢霆锋', sex='男')), 旧爱(Node('明星', age=42, name='谢霆锋', sex='男'), Node('明星', age=53, name='王菲', sex='女')), 离异(Node('明星', age=53, name='王菲', sex='女'), Node('明星', age=54, name='窦唯', sex='男')), 父亲(Node('明星', age=54, name='窦唯', sex='男'), Node('明星', age=26, name='窦靖童', sex='女')), 女儿(Node('明星', age=26, name='窦靖童', sex='女'), Node('明星', age=54, name='窦唯', sex='男')), 兄妹(Node('明星', age=54, name='窦唯', sex='男'), Node('明星', age=52, name='窦颖', sex='女')), 离异(Node('明星', age=52, name='窦颖', sex='女'), Node('明星', age=55, name='张亚东', sex='男')))\n",
      "Path(Node('明星', age=40, name='陈冠希', sex='男', tag='life is a fxxking movie'), 旧友(Node('明星', age=40, name='陈冠希', sex='男', tag='life is a fxxking movie'), Node('明星', age=42, name='谢霆锋', sex='男')), 旧爱(Node('明星', age=42, name='谢霆锋', sex='男'), Node('明星', age=53, name='王菲', sex='女')), 离异(Node('明星', age=53, name='王菲', sex='女'), Node('明星', age=54, name='窦唯', sex='男')), 离异(Node('明星', age=54, name='窦唯', sex='男'), Node('明星', age=53, name='王菲', sex='女')), 离异(Node('明星', age=53, name='王菲', sex='女'), Node('明星', age=52, name='李亚鹏', sex='男')), 旧爱(Node('明星', age=52, name='李亚鹏', sex='男'), Node('明星', age=52, name='翟颖', sex='女')), 旧爱(Node('明星', age=52, name='翟颖', sex='女'), Node('明星', age=55, name='张亚东', sex='男')))\n",
      "Path(Node('明星', age=40, name='陈冠希', sex='男', tag='life is a fxxking movie'), 旧友(Node('明星', age=40, name='陈冠希', sex='男', tag='life is a fxxking movie'), Node('明星', age=42, name='谢霆锋', sex='男')), 旧爱(Node('明星', age=42, name='谢霆锋', sex='男'), Node('明星', age=53, name='王菲', sex='女')), 好友(Node('明星', age=53, name='王菲', sex='女'), Node('明星', age=59, name='刘嘉玲', sex='女')), 夫妻(Node('明星', age=59, name='刘嘉玲', sex='女'), Node('明星', age=61, name='梁朝伟', sex='男')), 绯闻(Node('明星', age=61, name='梁朝伟', sex='男'), Node('明星', age=46, name='周迅', sex='女')), 旧爱(Node('明星', age=46, name='周迅', sex='女'), Node('明星', age=52, name='李亚鹏', sex='男')), 旧爱(Node('明星', age=52, name='李亚鹏', sex='男'), Node('明星', age=52, name='翟颖', sex='女')), 旧爱(Node('明星', age=52, name='翟颖', sex='女'), Node('明星', age=55, name='张亚东', sex='男')))\n",
      "Path(Node('明星', age=40, name='陈冠希', sex='男', tag='life is a fxxking movie'), 旧友(Node('明星', age=40, name='陈冠希', sex='男', tag='life is a fxxking movie'), Node('明星', age=42, name='谢霆锋', sex='男')), 旧爱(Node('明星', age=42, name='谢霆锋', sex='男'), Node('明星', age=53, name='王菲', sex='女')), 好友(Node('明星', age=53, name='王菲', sex='女'), Node('明星', age=59, name='刘嘉玲', sex='女')), 好友(Node('明星', age=59, name='刘嘉玲', sex='女'), Node('明星', age=53, name='王菲', sex='女')), 离异(Node('明星', age=53, name='王菲', sex='女'), Node('明星', age=52, name='李亚鹏', sex='男')), 旧爱(Node('明星', age=52, name='李亚鹏', sex='男'), Node('明星', age=52, name='翟颖', sex='女')), 旧爱(Node('明星', age=52, name='翟颖', sex='女'), Node('明星', age=55, name='张亚东', sex='男')))\n",
      "Path(Node('明星', age=40, name='陈冠希', sex='男', tag='life is a fxxking movie'), 旧友(Node('明星', age=40, name='陈冠希', sex='男', tag='life is a fxxking movie'), Node('明星', age=42, name='谢霆锋', sex='男')), 旧爱(Node('明星', age=42, name='谢霆锋', sex='男'), Node('明星', age=53, name='王菲', sex='女')), 好友(Node('明星', age=53, name='王菲', sex='女'), Node('明星', age=59, name='刘嘉玲', sex='女')), 好友(Node('明星', age=59, name='刘嘉玲', sex='女'), Node('明星', age=53, name='王菲', sex='女')), 离异(Node('明星', age=53, name='王菲', sex='女'), Node('明星', age=54, name='窦唯', sex='男')), 兄妹(Node('明星', age=54, name='窦唯', sex='男'), Node('明星', age=52, name='窦颖', sex='女')), 离异(Node('明星', age=52, name='窦颖', sex='女'), Node('明星', age=55, name='张亚东', sex='男')))\n",
      "Path(Node('明星', age=40, name='陈冠希', sex='男', tag='life is a fxxking movie'), 旧友(Node('明星', age=40, name='陈冠希', sex='男', tag='life is a fxxking movie'), Node('明星', age=42, name='谢霆锋', sex='男')), 旧爱(Node('明星', age=42, name='谢霆锋', sex='男'), Node('明星', age=53, name='王菲', sex='女')), 好友(Node('明星', age=53, name='王菲', sex='女'), Node('明星', age=55, name='那英', sex='女')), 好友(Node('明星', age=55, name='那英', sex='女'), Node('明星', age=46, name='周迅', sex='女')), 旧爱(Node('明星', age=46, name='周迅', sex='女'), Node('明星', age=51, name='窦鹏', sex='男')), 堂兄弟(Node('明星', age=51, name='窦鹏', sex='男'), Node('明星', age=54, name='窦唯', sex='男')), 兄妹(Node('明星', age=54, name='窦唯', sex='男'), Node('明星', age=52, name='窦颖', sex='女')), 离异(Node('明星', age=52, name='窦颖', sex='女'), Node('明星', age=55, name='张亚东', sex='男')))\n",
      "Path(Node('明星', age=40, name='陈冠希', sex='男', tag='life is a fxxking movie'), 旧友(Node('明星', age=40, name='陈冠希', sex='男', tag='life is a fxxking movie'), Node('明星', age=42, name='谢霆锋', sex='男')), 旧爱(Node('明星', age=42, name='谢霆锋', sex='男'), Node('明星', age=53, name='王菲', sex='女')), 好友(Node('明星', age=53, name='王菲', sex='女'), Node('明星', age=55, name='那英', sex='女')), 好友(Node('明星', age=55, name='那英', sex='女'), Node('明星', age=46, name='周迅', sex='女')), 旧爱(Node('明星', age=46, name='周迅', sex='女'), Node('明星', age=52, name='李亚鹏', sex='男')), 旧爱(Node('明星', age=52, name='李亚鹏', sex='男'), Node('明星', age=52, name='翟颖', sex='女')), 旧爱(Node('明星', age=52, name='翟颖', sex='女'), Node('明星', age=55, name='张亚东', sex='男')))\n",
      "Path(Node('明星', age=40, name='陈冠希', sex='男', tag='life is a fxxking movie'), 旧友(Node('明星', age=40, name='陈冠希', sex='男', tag='life is a fxxking movie'), Node('明星', age=42, name='谢霆锋', sex='男')), 旧爱(Node('明星', age=42, name='谢霆锋', sex='男'), Node('明星', age=53, name='王菲', sex='女')), 好友(Node('明星', age=53, name='王菲', sex='女'), Node('明星', age=55, name='那英', sex='女')), 好友(Node('明星', age=55, name='那英', sex='女'), Node('明星', age=53, name='王菲', sex='女')), 离异(Node('明星', age=53, name='王菲', sex='女'), Node('明星', age=52, name='李亚鹏', sex='男')), 旧爱(Node('明星', age=52, name='李亚鹏', sex='男'), Node('明星', age=52, name='翟颖', sex='女')), 旧爱(Node('明星', age=52, name='翟颖', sex='女'), Node('明星', age=55, name='张亚东', sex='男')))\n",
      "Path(Node('明星', age=40, name='陈冠希', sex='男', tag='life is a fxxking movie'), 旧友(Node('明星', age=40, name='陈冠希', sex='男', tag='life is a fxxking movie'), Node('明星', age=42, name='谢霆锋', sex='男')), 旧爱(Node('明星', age=42, name='谢霆锋', sex='男'), Node('明星', age=53, name='王菲', sex='女')), 好友(Node('明星', age=53, name='王菲', sex='女'), Node('明星', age=55, name='那英', sex='女')), 好友(Node('明星', age=55, name='那英', sex='女'), Node('明星', age=53, name='王菲', sex='女')), 离异(Node('明星', age=53, name='王菲', sex='女'), Node('明星', age=54, name='窦唯', sex='男')), 兄妹(Node('明星', age=54, name='窦唯', sex='男'), Node('明星', age=52, name='窦颖', sex='女')), 离异(Node('明星', age=52, name='窦颖', sex='女'), Node('明星', age=55, name='张亚东', sex='男')))\n"
     ]
    }
   ],
   "source": [
    "query = \"optional match p=(m)-[*..8]->(n) where m.name ='陈冠希' and n.name ='张亚东' return p\"\n",
    "result = graph.run(query)\n",
    "for i in result :\n",
    "    print(i)"
   ]
  },
  {
   "cell_type": "code",
   "execution_count": null,
   "id": "030691d1",
   "metadata": {},
   "outputs": [],
   "source": []
  }
 ],
 "metadata": {
  "kernelspec": {
   "display_name": "Python 3 (ipykernel)",
   "language": "python",
   "name": "python3"
  },
  "language_info": {
   "codemirror_mode": {
    "name": "ipython",
    "version": 3
   },
   "file_extension": ".py",
   "mimetype": "text/x-python",
   "name": "python",
   "nbconvert_exporter": "python",
   "pygments_lexer": "ipython3",
   "version": "3.10.9"
  }
 },
 "nbformat": 4,
 "nbformat_minor": 5
}
